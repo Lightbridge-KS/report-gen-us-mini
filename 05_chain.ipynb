{
 "cells": [
  {
   "cell_type": "markdown",
   "metadata": {},
   "source": [
    "# Chaining Workflow"
   ]
  },
  {
   "cell_type": "code",
   "execution_count": 24,
   "metadata": {},
   "outputs": [],
   "source": [
    "from langchain_openai import ChatOpenAI, OpenAIEmbeddings\n",
    "from us_report_ext import (get_findings, \n",
    "                           load_split_md_docs, \n",
    "                           get_chroma_retrievers, \n",
    "                           retrieve_abnormal_docs,\n",
    "                           get_prompt_template)\n",
    "\n",
    "from us_report_ext._utils import read_markdown"
   ]
  },
  {
   "cell_type": "code",
   "execution_count": 25,
   "metadata": {},
   "outputs": [],
   "source": [
    "llm_main = ChatOpenAI(model=\"gpt-3.5-turbo\") # Main LLM for Prompt\n",
    "llm_input = ChatOpenAI(model=\"gpt-3.5-turbo\") # LLM for instruct input\n",
    "embedding = OpenAIEmbeddings() # Chroma Embedding"
   ]
  },
  {
   "cell_type": "markdown",
   "metadata": {},
   "source": [
    "## User Input"
   ]
  },
  {
   "cell_type": "code",
   "execution_count": 26,
   "metadata": {},
   "outputs": [
    {
     "data": {
      "text/plain": [
       "Findings(abnormal_liver=[Liver(finding='Mild fatty liver')], abnormal_kidney=[Kidney(finding='2-mm left renal stone'), Kidney(finding='5-mm right renal cyst')], abnormal_gallbladder=[GallBladder(finding='A 3-mm gallstone')])"
      ]
     },
     "execution_count": 26,
     "metadata": {},
     "output_type": "execute_result"
    }
   ],
   "source": [
    "# User Text to Extract\n",
    "user_text1 = \"\"\"Generate US report with these findings:\n",
    "- Mild fatty liver\n",
    "- 2-mm left renal stone, 5-mm right renal cyst\n",
    "- A 3-mm gallstone\n",
    "\"\"\"\n",
    "\n",
    "findings1 = get_findings(input_text=user_text1, llm = llm_input)\n",
    "findings1"
   ]
  },
  {
   "cell_type": "markdown",
   "metadata": {},
   "source": [
    "## Abnormal Docs"
   ]
  },
  {
   "cell_type": "code",
   "execution_count": 27,
   "metadata": {},
   "outputs": [
    {
     "data": {
      "text/plain": [
       "{'abnormal_kidney': [Document(page_content='### Renal Stone  \\n```markdown\\n**Kidneys:** Normal size and parenchymal echogenicity of both kidneys. <quantifier> non-obstructing caliceal stone(s) at `[right | left | both]` kidney(s).  No hydronephrosis or solid mass.\\n**IMPRESSION:**\\n- <quantifier> non-obstructing caliceal stone(s) at `[right | left | both]` kidney(s)\\n```  \\nExamples:  \\n```markdown\\n**Kidneys:** Normal size and parenchymal echogenicity of both kidneys. A few non-obstructing caliceal stones at right kidney.  No hydronephrosis or solid mass.\\n**IMPRESSION:**\\n- A few non-obstructing caliceal stones at right kidney.\\n```', metadata={'Header 1': 'Kidney Findings', 'Header 3': 'Renal Stone'}),\n",
       "  Document(page_content='### Renal Cortical Cyst(s)  \\nHere is how to report renal cortical cyst according to Bosniak classification system.  \\n#### Bosniak 1 (Simple Cyst)  \\nUse this phase: \"simple cortical cyst(s)\" with <quantifier> as described in the english style guide.  \\n```markdown\\n**Kidneys:** Normal size and parenchymal echogenicity of both kidneys. <quantifier> simple cortical cyst(s) at `[right | left | both]` kidney(s). No stone, hydronephrosis or solid mass.\\n**IMPRESSION:**\\n- <quantifier> simple `[right | left | bilateral]` cyst(s)\\n```  \\nExamples:  \\n```markdown\\n**Kidneys:** Normal size and parenchymal echogenicity of both kidneys. A 0.5-cm simple cortical cyst at right kidney. No stone, hydronephrosis or solid mass.\\n**IMPRESSION:**\\n- A 0.5-cm simple right renal cyst.\\n```  \\n```markdown\\n**Kidneys:** Normal size and parenchymal echogenicity of both kidneys. A few simple cortical cysts at both kidneys, measuring up to 2.0 cm. No stone, hydronephrosis or solid mass.\\n**IMPRESSION:**\\n- A few simple bilateral renal cysts, measuring up to 2.0 cm.\\n```', metadata={'Header 1': 'Kidney Findings', 'Header 3': 'Renal Cortical Cyst(s)'})],\n",
       " 'abnormal_liver': [Document(page_content='### Fatty Liver  \\n#### Mild Fatty Liver  \\n```markdown\\n**Liver:** Normal size with mildly increased parenchymal echogenicity of the liver. No focal lesion.\\n**IMPRESSION:**\\n- Mild fatty liver without focal lesion.\\n```  \\n#### Moderate Fatty Liver  \\n```markdown\\n**Liver:** Normal size with diffusely increased parenchymal echogenicity of the liver, causing imparied visualization of intrahepatic vasculature. No focal lesion.\\n**IMPRESSION:**\\n- Moderate fatty liver without focal lesion.\\n```  \\n#### Severe Fatty Liver  \\n```markdown\\n**Liver:** Normal size with diffusely increased parenchymal echogenicity of the liver, causing imparied visualization of intrahepatic vasculature and right hemidiaphragm. No focal lesion.\\n**IMPRESSION:**\\n- Severe fatty liver without focal lesion.\\n```  \\n#### Focal Fat Sparing  \\nIf focal fat sparing area is present, add the following line in the `liver` field after the fatty liver sentence.  \\n```markdown\\n**Liver:** <fatty_liver_findings>. Geographic hypoechoic areas `[at | adjacent to]` `[periportal region | gallbladder fossa]`, likely a focal fat sparing.\\n**IMPRESSION:**\\n- <fatty_liver_impression> with focal fat sparing at <focal_fat_sparing_location>\\n```  \\nExample:  \\n```markdown\\n**Liver:** Normal size with mildly increased parenchymal echogenicity of the liver. Geographic hypoechoic areas at periportal region, likely a focal fat sparing. No gross mass.\\n**IMPRESSION:**\\n- Severe fatty liver with focal fat sparing at periportal region.\\n```', metadata={'Header 1': 'Liver Abnormal Findings', 'Header 3': 'Fatty Liver'})],\n",
       " 'abnormal_gallbladder': [Document(page_content='### Gallstone(s)  \\n```markdown\\n**Gallbladder:** Distended gallbladder containing `[a ?-cm | a few | many ]` gallstone(s), (measuring up to ___ cm). No gallbladder wall thickening or pericholecystic fluid. No mass\\n**IMPRESSION:**\\n- `[a ?-cm | a few | many ]` gallstone(s) without evidence of cholecystitis\\n```', metadata={'Header 1': 'Gallbladder Abnormal Findings', 'Header 3': 'Gallstone(s)'})]}"
      ]
     },
     "execution_count": 27,
     "metadata": {},
     "output_type": "execute_result"
    }
   ],
   "source": [
    "md_header_splits_dict = load_split_md_docs(\"abnormal\")\n",
    "retriever_dict = get_chroma_retrievers(md_header_splits_dict, embedding= embedding)\n",
    "\n",
    "abn_doc_dict1 = retrieve_abnormal_docs(retriever_dict, findings1)\n",
    "abn_doc_dict1"
   ]
  },
  {
   "cell_type": "markdown",
   "metadata": {},
   "source": [
    "## Prompt "
   ]
  },
  {
   "cell_type": "code",
   "execution_count": 10,
   "metadata": {},
   "outputs": [],
   "source": [
    "prompt_temp1 = get_prompt_template(abn_doc_dict1)"
   ]
  },
  {
   "cell_type": "markdown",
   "metadata": {},
   "source": [
    "## Chain"
   ]
  },
  {
   "cell_type": "markdown",
   "metadata": {},
   "source": [
    "### Final Wrapper: `generate_report()`"
   ]
  },
  {
   "cell_type": "code",
   "execution_count": 18,
   "metadata": {},
   "outputs": [],
   "source": [
    "from langchain_core.runnables import RunnablePassthrough\n",
    "from langchain_core.output_parsers import StrOutputParser\n",
    "\n",
    "\n",
    "def generate_report(user_input: str,\n",
    "                    llm_main = ChatOpenAI(model=\"gpt-3.5-turbo\"), # Main LLM for Prompt\n",
    "                    llm_input = ChatOpenAI(model=\"gpt-3.5-turbo\"), # LLM for instruct input\n",
    "                    embedding = OpenAIEmbeddings(), \n",
    "                    ) -> str:\n",
    "    # Get findings\n",
    "    findings = get_findings(input_text=user_input, llm = llm_input)\n",
    "    # Dict of Markdown Splits \n",
    "    md_header_splits_dict = load_split_md_docs(\"abnormal\")\n",
    "    # Dict of retrievers\n",
    "    retriever_dict = get_chroma_retrievers(md_header_splits_dict, embedding= embedding)\n",
    "    # Dict of Abnormal Docs \n",
    "    abn_doc_dict = retrieve_abnormal_docs(retriever_dict, findings)\n",
    "    # Prompt Template\n",
    "    prompt_temp = get_prompt_template(abn_doc_dict)\n",
    "    \n",
    "    rag_chain = (\n",
    "        {\"user\": RunnablePassthrough()}  |\n",
    "        prompt_temp | \n",
    "        llm_main | \n",
    "        StrOutputParser()\n",
    "    )\n",
    "    \n",
    "    report = rag_chain.invoke(user_input)\n",
    "    return report\n",
    "    "
   ]
  },
  {
   "cell_type": "markdown",
   "metadata": {},
   "source": [
    "## Execute"
   ]
  },
  {
   "cell_type": "code",
   "execution_count": 21,
   "metadata": {},
   "outputs": [
    {
     "name": "stdout",
     "output_type": "stream",
     "text": [
      "**US OF THE UPPER ABDOMEN (MINI)**\n",
      "\n",
      "**FINDINGS:**\n",
      "\n",
      "**Liver:** Normal size and parenchymal echogenicity. No focal lesion.\n",
      "**Gallbladder:** Well-distended gallbladder. No stone or mass.\n",
      "**Kidneys:** Normal size and parenchymal echogenicity of both kidneys. No stone, hydronephrosis or solid mass.\n",
      "\n",
      "**IMPRESSION:**\n",
      "- Normal liver parenchyma without focal lesion.\n"
     ]
    }
   ],
   "source": [
    "report1 = generate_report(\"Generate normal US report\")\n",
    "print(report1)"
   ]
  },
  {
   "cell_type": "code",
   "execution_count": 22,
   "metadata": {},
   "outputs": [
    {
     "name": "stdout",
     "output_type": "stream",
     "text": [
      "**US OF THE UPPER ABDOMEN**\n",
      "\n",
      "**FINDINGS:**\n",
      "\n",
      "**Liver:** Normal size with mildly increased parenchymal echogenicity of the liver. No focal lesion.\n",
      "**Gallbladder:** Well-distended gallbladder. No stone or mass.\n",
      "**Kidneys:** Normal size and parenchymal echogenicity of both kidneys. A 6-mm non-obstructing caliceal stone at left kidney. A 5-mm simple right renal cyst. No hydronephrosis or solid mass.\n",
      "\n",
      "**IMPRESSION:**\n",
      "- Mild fatty liver without focal lesion.\n",
      "- A 6-mm non-obstructing caliceal stone at left kidney.\n",
      "- A 5-mm simple right renal cyst.\n"
     ]
    }
   ],
   "source": [
    "# User Text to Extract\n",
    "user_text2 = \"\"\"Generate US report with these findings:\n",
    "- Mild fatty liver\n",
    "- 6-mm left renal stone, 5-mm right renal cyst\n",
    "\"\"\"\n",
    "\n",
    "report2 = generate_report(user_text2)\n",
    "print(report2)"
   ]
  },
  {
   "cell_type": "code",
   "execution_count": 23,
   "metadata": {},
   "outputs": [
    {
     "name": "stdout",
     "output_type": "stream",
     "text": [
      "**US OF THE UPPER ABDOMEN**\n",
      "\n",
      "**FINDINGS:**\n",
      "\n",
      "**Liver:** Normal size with diffusely increased parenchymal echogenicity of the liver, causing impaired visualization of intrahepatic vasculature and right hemidiaphragm. No focal lesion.\n",
      "**Gallbladder:** Distended gallbladder containing a 2-cm gallstone. No gallbladder wall thickening or pericholecystic fluid. No mass.\n",
      "**Kidneys:** Normal size and parenchymal echogenicity of both kidneys. A 6-mm non-obstructing caliceal stone at left kidney. A 5-mm simple right renal cyst. No hydronephrosis or solid mass.\n",
      "\n",
      "**IMPRESSION:**\n",
      "- Severe fatty liver without focal lesion.\n",
      "- A 6-mm non-obstructing caliceal stone at left kidney.\n",
      "- A few simple right renal cysts, measuring up to 5 mm.\n",
      "- A 2-cm gallstone without evidence of cholecystitis.\n"
     ]
    }
   ],
   "source": [
    "# User Text to Extract\n",
    "user_text3 = \"\"\"Generate US report with these findings:\n",
    "- Severe fatty liver\n",
    "- 6-mm left renal stone, 5-mm right renal cyst\n",
    "- 2-cm gallstone\n",
    "\"\"\"\n",
    "\n",
    "report3 = generate_report(user_text3)\n",
    "print(report3)"
   ]
  }
 ],
 "metadata": {
  "kernelspec": {
   "display_name": "Python 3",
   "language": "python",
   "name": "python3"
  },
  "language_info": {
   "codemirror_mode": {
    "name": "ipython",
    "version": 3
   },
   "file_extension": ".py",
   "mimetype": "text/x-python",
   "name": "python",
   "nbconvert_exporter": "python",
   "pygments_lexer": "ipython3",
   "version": "3.10.10"
  }
 },
 "nbformat": 4,
 "nbformat_minor": 2
}
