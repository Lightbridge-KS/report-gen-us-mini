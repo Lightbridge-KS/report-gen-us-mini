{
 "cells": [
  {
   "cell_type": "markdown",
   "metadata": {},
   "source": [
    "# Retrieve Abnormal Template\n",
    "\n",
    "Goal: Retrieve abnormal findings from abnormal template by each organs"
   ]
  },
  {
   "cell_type": "code",
   "execution_count": 8,
   "metadata": {},
   "outputs": [],
   "source": [
    "from langchain_community.document_loaders import DirectoryLoader, TextLoader\n",
    "from langchain_core.runnables import RunnablePassthrough\n",
    "# Local Package\n",
    "from us_report_ext.findings import Findings"
   ]
  },
  {
   "cell_type": "markdown",
   "metadata": {},
   "source": [
    "## Load Abnormal Findings Markdown Docs"
   ]
  },
  {
   "cell_type": "code",
   "execution_count": 9,
   "metadata": {},
   "outputs": [],
   "source": [
    "# Load all markdown files from `abnormal/` directory\n",
    "loader = DirectoryLoader(\"abnormal\", glob=\"**/*.md\", loader_cls=TextLoader)\n",
    "docs_list = loader.load()"
   ]
  },
  {
   "cell_type": "code",
   "execution_count": 10,
   "metadata": {},
   "outputs": [
    {
     "name": "stdout",
     "output_type": "stream",
     "text": [
      "# Kidney Findings\n",
      "\n",
      "\n",
      "Order findings as:\n",
      "1. Kidney size and echogenicity\n",
      "2. (If any) Renal cyst(s)\n",
      "3. (If any) Renal stone, hydronephrosis, or solid mass.\n",
      "\n",
      "```markdown\n",
      "**Kidneys:** <kidney_size_echo>. <renal_cyst>. <renal_stone_hydro_solid_mass>.\n",
      "```\n",
      "\n",
      "\n"
     ]
    }
   ],
   "source": [
    "print(docs_list[0].page_content[0:250] )"
   ]
  },
  {
   "cell_type": "code",
   "execution_count": 11,
   "metadata": {},
   "outputs": [
    {
     "data": {
      "text/plain": [
       "{'abnormal_kidney': Document(page_content='# Kidney Findings\\n\\n\\nOrder findings as:\\n1. Kidney size and echogenicity\\n2. (If any) Renal cyst(s)\\n3. (If any) Renal stone, hydronephrosis, or solid mass.\\n\\n```markdown\\n**Kidneys:** <kidney_size_echo>. <renal_cyst>. <renal_stone_hydro_solid_mass>.\\n```\\n\\n\\n### (Chronic) Parenchymatous Kidney Disease\\n\\nDefinition: \\n\\n\"Parenchymatous kidney disease\" := normal kidney size but increased echogenicity. \\n\"Chronic parenchymatous kidney disease\" := small kidney size and increased echogenicity. \\n\\nIf one kidney is abnormal and the other is normal, report findings for each kidneys. \\n\\nHere is the format:\\n\\n```markdown\\n**Kidneys:** `[Normal | Small]` size with (mildly) increased parenchymal echogenicity of the `[right | left | both]` kidney(s). No stone, hydronephrosis or solid mass.\\n**IMPRESSION:**\\n- (Chronic) parenchymatous disease of `[right | left | both]` kidney(s).\\n```\\n\\nExamples:\\n\\n- Parenchymatous right kidney and normal left kidney:\\n\\n```markdown\\n**Kidneys:** Normal size with mildly increased parenchymal echogenicity of the right kidney. Normal size and parenchymal echogenicity of left kidney. No stone, hydronephrosis or solid mass.\\n**IMPRESSION:**\\n- Parenchymatous disease of right kidney.\\n```\\n\\n- Chronic parenchymatous of both kidneys:\\n\\n```markdown\\n**Kidneys:** Small size with increased parenchymal echogenicity of both kidneys. No stone, hydronephrosis or solid mass.\\n**IMPRESSION:**\\n- Chronic parenchymatous disease of both kidneys.\\n```\\n\\n### Renal Cortical Cyst(s)\\n\\nHere is how to report renal cortical cyst according to Bosniak classification system.\\n\\n#### Bosniak 1 (Simple Cyst)\\n\\nUse this phase: \"simple cortical cyst(s)\" with <quantifier> as described in the english style guide.\\n\\n```markdown\\n**Kidneys:** Normal size and parenchymal echogenicity of both kidneys. <quantifier> simple cortical cyst(s) at `[right | left | both]` kidney(s). No stone, hydronephrosis or solid mass.\\n**IMPRESSION:**\\n- <quantifier> simple `[right | left | bilateral]` cyst(s)\\n```\\n\\nExamples:\\n\\n```markdown\\n**Kidneys:** Normal size and parenchymal echogenicity of both kidneys. A 0.5-cm simple cortical cyst at right kidney. No stone, hydronephrosis or solid mass.\\n**IMPRESSION:**\\n- A 0.5-cm simple right renal cyst.\\n```\\n\\n```markdown\\n**Kidneys:** Normal size and parenchymal echogenicity of both kidneys. A few simple cortical cysts at both kidneys, measuring up to 2.0 cm. No stone, hydronephrosis or solid mass.\\n**IMPRESSION:**\\n- A few simple bilateral renal cysts, measuring up to 2.0 cm.\\n```\\n\\n### Renal Stone\\n\\n```markdown\\n**Kidneys:** Normal size and parenchymal echogenicity of both kidneys. <quantifier> non-obstructing caliceal stone(s) at `[right | left | both]` kidney(s).  No hydronephrosis or solid mass.\\n**IMPRESSION:**\\n- <quantifier> non-obstructing caliceal stone(s) at `[right | left | both]` kidney(s)\\n```\\n\\nExamples:\\n\\n```markdown\\n**Kidneys:** Normal size and parenchymal echogenicity of both kidneys. A few non-obstructing caliceal stones at right kidney.  No hydronephrosis or solid mass.\\n**IMPRESSION:**\\n- A few non-obstructing caliceal stones at right kidney.\\n```\\n\\n', metadata={'source': 'abnormal/abnormal_kidney.md'}),\n",
       " 'abnormal_liver': Document(page_content='# Liver Abnormal Findings\\n\\n### Parenchymatous Liver Disease\\n\\n```markdown\\n**Liver:** Normal size and (mildly) `[increased | coarse]` parenchymal echogenicity. No focal lesion.\\n**IMPRESSION:**\\n- (Mild) parenchymatous disease of the liver without focal lesion.\\n```\\n\\n### Fatty Liver\\n\\n#### Mild Fatty Liver\\n\\n```markdown\\n**Liver:** Normal size with mildly increased parenchymal echogenicity of the liver. No focal lesion.\\n**IMPRESSION:**\\n- Mild fatty liver without focal lesion.\\n```\\n\\n#### Moderate Fatty Liver\\n\\n```markdown\\n**Liver:** Normal size with diffusely increased parenchymal echogenicity of the liver, causing imparied visualization of intrahepatic vasculature. No focal lesion.\\n**IMPRESSION:**\\n- Moderate fatty liver without focal lesion.\\n```\\n\\n#### Severe Fatty Liver\\n\\n```markdown\\n**Liver:** Normal size with diffusely increased parenchymal echogenicity of the liver, causing imparied visualization of intrahepatic vasculature and right hemidiaphragm. No focal lesion.\\n**IMPRESSION:**\\n- Severe fatty liver without focal lesion.\\n```\\n\\n#### Focal Fat Sparing \\n\\nIf focal fat sparing area is present, add the following line in the `liver` field after the fatty liver sentence.\\n\\n```markdown\\n**Liver:** <fatty_liver_findings>. Geographic hypoechoic areas `[at | adjacent to]` `[periportal region | gallbladder fossa]`, likely a focal fat sparing.\\n**IMPRESSION:**\\n- <fatty_liver_impression> with focal fat sparing at <focal_fat_sparing_location>\\n```\\n\\nExample:\\n\\n```markdown\\n**Liver:** Normal size with mildly increased parenchymal echogenicity of the liver. Geographic hypoechoic areas at periportal region, likely a focal fat sparing. No gross mass.\\n**IMPRESSION:**\\n- Severe fatty liver with focal fat sparing at periportal region.\\n```\\n\\n### Cirrhosis\\n\\n```markdown\\n**Liver:** `[Normal size | Enlarged caudate lobe]` with diffusely coarsen parenchymal echogenicity and surface nodularity. Portal vein enlarged, measuring ___ cm. No focal lesion.\\n**Spleen:** `[Normal in size | Spleenomegaly]`.\\n**IMPRESSION:**\\n- Liver cirrhosis without focal lesion.\\n```', metadata={'source': 'abnormal/abnormal_liver.md'}),\n",
       " 'abnormal_gallbladder': Document(page_content='# Gallbladder Abnormal Findings\\n\\nOrder findings as:\\n1. Gallbladder distension\\n2. Gallbladder adenomyomatosis\\n3. Gallstone or bile sludge\\n\\n```markdown\\n**Gallbladder:** <gallbladder_distend>. <gallbladder_adeno>. <gallbladder_stone_or_sludge>.\\n```\\n\\n### Gallbladder Adenomyomatosis\\n\\n```markdown\\n**Gallbladder:** Focal adenomyomatosis of the gallbladder.\\n**IMPRESSION:** \\n- Focal adenomyomatosis of the gallbladder. \\n```\\n\\n### Gallstone(s)\\n\\n```markdown\\n**Gallbladder:** Distended gallbladder containing `[a ?-cm | a few | many ]` gallstone(s), (measuring up to ___ cm). No gallbladder wall thickening or pericholecystic fluid. No mass\\n**IMPRESSION:** \\n- `[a ?-cm | a few | many ]` gallstone(s) without evidence of cholecystitis \\n```\\n\\n### Bile sludge\\n\\n```markdown\\n**Gallbladder:** Distended gallbladder containing bile sludge. No gallbladder wall thickening or pericholecystic fluid. No stone or mass.\\n**IMPRESSION:**\\n- Bile sludge in gallbladder without evidence of cholecystitis\\n```\\n\\n### Post-cholecystectomy\\n\\n```markdown\\n**Gallbladder:** Surgically absent gallbladder.\\n```\\n\\n### Cholecystostomy\\n\\n```markdown\\n**Gallbladder:** Collapsed gallbladder with retained cholecystostomy tube. No stone.\\n**IMPRESSION:** \\n- Proper position of cholecystosmy tube within collapsed gallbladder.\\n```\\n', metadata={'source': 'abnormal/abnormal_gallbladder.md'})}"
      ]
     },
     "execution_count": 11,
     "metadata": {},
     "output_type": "execute_result"
    }
   ],
   "source": [
    "from pathlib import Path\n",
    "\n",
    "# Put into dictionary \n",
    "docs_names = [Path(doc.metadata[\"source\"]).stem for doc in docs_list]\n",
    "docs_dict = dict(zip(docs_names, docs_list))\n",
    "docs_dict"
   ]
  },
  {
   "cell_type": "markdown",
   "metadata": {},
   "source": [
    "## Split Markdown by headers"
   ]
  },
  {
   "cell_type": "code",
   "execution_count": 12,
   "metadata": {},
   "outputs": [
    {
     "data": {
      "text/plain": [
       "{'abnormal_kidney': [Document(page_content='Order findings as:\\n1. Kidney size and echogenicity\\n2. (If any) Renal cyst(s)\\n3. (If any) Renal stone, hydronephrosis, or solid mass.  \\n```markdown\\n**Kidneys:** <kidney_size_echo>. <renal_cyst>. <renal_stone_hydro_solid_mass>.\\n```', metadata={'Header 1': 'Kidney Findings'}),\n",
       "  Document(page_content='Definition:  \\n\"Parenchymatous kidney disease\" := normal kidney size but increased echogenicity.\\n\"Chronic parenchymatous kidney disease\" := small kidney size and increased echogenicity.  \\nIf one kidney is abnormal and the other is normal, report findings for each kidneys.  \\nHere is the format:  \\n```markdown\\n**Kidneys:** `[Normal | Small]` size with (mildly) increased parenchymal echogenicity of the `[right | left | both]` kidney(s). No stone, hydronephrosis or solid mass.\\n**IMPRESSION:**\\n- (Chronic) parenchymatous disease of `[right | left | both]` kidney(s).\\n```  \\nExamples:  \\n- Parenchymatous right kidney and normal left kidney:  \\n```markdown\\n**Kidneys:** Normal size with mildly increased parenchymal echogenicity of the right kidney. Normal size and parenchymal echogenicity of left kidney. No stone, hydronephrosis or solid mass.\\n**IMPRESSION:**\\n- Parenchymatous disease of right kidney.\\n```  \\n- Chronic parenchymatous of both kidneys:  \\n```markdown\\n**Kidneys:** Small size with increased parenchymal echogenicity of both kidneys. No stone, hydronephrosis or solid mass.\\n**IMPRESSION:**\\n- Chronic parenchymatous disease of both kidneys.\\n```', metadata={'Header 1': 'Kidney Findings', 'Header 3': '(Chronic) Parenchymatous Kidney Disease'}),\n",
       "  Document(page_content='Here is how to report renal cortical cyst according to Bosniak classification system.  \\n#### Bosniak 1 (Simple Cyst)  \\nUse this phase: \"simple cortical cyst(s)\" with <quantifier> as described in the english style guide.  \\n```markdown\\n**Kidneys:** Normal size and parenchymal echogenicity of both kidneys. <quantifier> simple cortical cyst(s) at `[right | left | both]` kidney(s). No stone, hydronephrosis or solid mass.\\n**IMPRESSION:**\\n- <quantifier> simple `[right | left | bilateral]` cyst(s)\\n```  \\nExamples:  \\n```markdown\\n**Kidneys:** Normal size and parenchymal echogenicity of both kidneys. A 0.5-cm simple cortical cyst at right kidney. No stone, hydronephrosis or solid mass.\\n**IMPRESSION:**\\n- A 0.5-cm simple right renal cyst.\\n```  \\n```markdown\\n**Kidneys:** Normal size and parenchymal echogenicity of both kidneys. A few simple cortical cysts at both kidneys, measuring up to 2.0 cm. No stone, hydronephrosis or solid mass.\\n**IMPRESSION:**\\n- A few simple bilateral renal cysts, measuring up to 2.0 cm.\\n```', metadata={'Header 1': 'Kidney Findings', 'Header 3': 'Renal Cortical Cyst(s)'}),\n",
       "  Document(page_content='```markdown\\n**Kidneys:** Normal size and parenchymal echogenicity of both kidneys. <quantifier> non-obstructing caliceal stone(s) at `[right | left | both]` kidney(s).  No hydronephrosis or solid mass.\\n**IMPRESSION:**\\n- <quantifier> non-obstructing caliceal stone(s) at `[right | left | both]` kidney(s)\\n```  \\nExamples:  \\n```markdown\\n**Kidneys:** Normal size and parenchymal echogenicity of both kidneys. A few non-obstructing caliceal stones at right kidney.  No hydronephrosis or solid mass.\\n**IMPRESSION:**\\n- A few non-obstructing caliceal stones at right kidney.\\n```', metadata={'Header 1': 'Kidney Findings', 'Header 3': 'Renal Stone'})],\n",
       " 'abnormal_liver': [Document(page_content='```markdown\\n**Liver:** Normal size and (mildly) `[increased | coarse]` parenchymal echogenicity. No focal lesion.\\n**IMPRESSION:**\\n- (Mild) parenchymatous disease of the liver without focal lesion.\\n```', metadata={'Header 1': 'Liver Abnormal Findings', 'Header 3': 'Parenchymatous Liver Disease'}),\n",
       "  Document(page_content='#### Mild Fatty Liver  \\n```markdown\\n**Liver:** Normal size with mildly increased parenchymal echogenicity of the liver. No focal lesion.\\n**IMPRESSION:**\\n- Mild fatty liver without focal lesion.\\n```  \\n#### Moderate Fatty Liver  \\n```markdown\\n**Liver:** Normal size with diffusely increased parenchymal echogenicity of the liver, causing imparied visualization of intrahepatic vasculature. No focal lesion.\\n**IMPRESSION:**\\n- Moderate fatty liver without focal lesion.\\n```  \\n#### Severe Fatty Liver  \\n```markdown\\n**Liver:** Normal size with diffusely increased parenchymal echogenicity of the liver, causing imparied visualization of intrahepatic vasculature and right hemidiaphragm. No focal lesion.\\n**IMPRESSION:**\\n- Severe fatty liver without focal lesion.\\n```  \\n#### Focal Fat Sparing  \\nIf focal fat sparing area is present, add the following line in the `liver` field after the fatty liver sentence.  \\n```markdown\\n**Liver:** <fatty_liver_findings>. Geographic hypoechoic areas `[at | adjacent to]` `[periportal region | gallbladder fossa]`, likely a focal fat sparing.\\n**IMPRESSION:**\\n- <fatty_liver_impression> with focal fat sparing at <focal_fat_sparing_location>\\n```  \\nExample:  \\n```markdown\\n**Liver:** Normal size with mildly increased parenchymal echogenicity of the liver. Geographic hypoechoic areas at periportal region, likely a focal fat sparing. No gross mass.\\n**IMPRESSION:**\\n- Severe fatty liver with focal fat sparing at periportal region.\\n```', metadata={'Header 1': 'Liver Abnormal Findings', 'Header 3': 'Fatty Liver'}),\n",
       "  Document(page_content='```markdown\\n**Liver:** `[Normal size | Enlarged caudate lobe]` with diffusely coarsen parenchymal echogenicity and surface nodularity. Portal vein enlarged, measuring ___ cm. No focal lesion.\\n**Spleen:** `[Normal in size | Spleenomegaly]`.\\n**IMPRESSION:**\\n- Liver cirrhosis without focal lesion.\\n```', metadata={'Header 1': 'Liver Abnormal Findings', 'Header 3': 'Cirrhosis'})],\n",
       " 'abnormal_gallbladder': [Document(page_content='Order findings as:\\n1. Gallbladder distension\\n2. Gallbladder adenomyomatosis\\n3. Gallstone or bile sludge  \\n```markdown\\n**Gallbladder:** <gallbladder_distend>. <gallbladder_adeno>. <gallbladder_stone_or_sludge>.\\n```', metadata={'Header 1': 'Gallbladder Abnormal Findings'}),\n",
       "  Document(page_content='```markdown\\n**Gallbladder:** Focal adenomyomatosis of the gallbladder.\\n**IMPRESSION:**\\n- Focal adenomyomatosis of the gallbladder.\\n```', metadata={'Header 1': 'Gallbladder Abnormal Findings', 'Header 3': 'Gallbladder Adenomyomatosis'}),\n",
       "  Document(page_content='```markdown\\n**Gallbladder:** Distended gallbladder containing `[a ?-cm | a few | many ]` gallstone(s), (measuring up to ___ cm). No gallbladder wall thickening or pericholecystic fluid. No mass\\n**IMPRESSION:**\\n- `[a ?-cm | a few | many ]` gallstone(s) without evidence of cholecystitis\\n```', metadata={'Header 1': 'Gallbladder Abnormal Findings', 'Header 3': 'Gallstone(s)'}),\n",
       "  Document(page_content='```markdown\\n**Gallbladder:** Distended gallbladder containing bile sludge. No gallbladder wall thickening or pericholecystic fluid. No stone or mass.\\n**IMPRESSION:**\\n- Bile sludge in gallbladder without evidence of cholecystitis\\n```', metadata={'Header 1': 'Gallbladder Abnormal Findings', 'Header 3': 'Bile sludge'}),\n",
       "  Document(page_content='```markdown\\n**Gallbladder:** Surgically absent gallbladder.\\n```', metadata={'Header 1': 'Gallbladder Abnormal Findings', 'Header 3': 'Post-cholecystectomy'}),\n",
       "  Document(page_content='```markdown\\n**Gallbladder:** Collapsed gallbladder with retained cholecystostomy tube. No stone.\\n**IMPRESSION:**\\n- Proper position of cholecystosmy tube within collapsed gallbladder.\\n```', metadata={'Header 1': 'Gallbladder Abnormal Findings', 'Header 3': 'Cholecystostomy'})]}"
      ]
     },
     "execution_count": 12,
     "metadata": {},
     "output_type": "execute_result"
    }
   ],
   "source": [
    "from langchain_text_splitters import MarkdownHeaderTextSplitter\n",
    "\n",
    "headers_to_split_on = [\n",
    "    (\"#\", \"Header 1\"),\n",
    "    (\"##\", \"Header 2\"),\n",
    "    (\"###\", \"Header 3\"),\n",
    "]\n",
    "\n",
    "# MD splits\n",
    "markdown_splitter = MarkdownHeaderTextSplitter(\n",
    "    headers_to_split_on=headers_to_split_on, strip_headers=True\n",
    ")\n",
    "md_header_splits_dict = {name: markdown_splitter.split_text(doc.page_content) for name, doc in docs_dict.items()}\n",
    "md_header_splits_dict"
   ]
  },
  {
   "cell_type": "markdown",
   "metadata": {},
   "source": [
    "## Function: `load_split_md_docs()`"
   ]
  },
  {
   "cell_type": "code",
   "execution_count": 1,
   "metadata": {},
   "outputs": [],
   "source": [
    "from typing import Dict, List\n",
    "from pathlib import Path\n",
    "from langchain_text_splitters import MarkdownHeaderTextSplitter\n",
    "from langchain_core.documents import Document\n",
    "from langchain_community.document_loaders import DirectoryLoader, TextLoader\n",
    "\n",
    "def load_split_md_docs(path: str) -> Dict[str, List[Document]]:\n",
    "    \"\"\"Load and Split Markdown Documents\n",
    "\n",
    "    Args:\n",
    "        path (str): path to folder containing markdown docs\n",
    "\n",
    "    Returns:\n",
    "        _dict_: Dictionary containing list of Documents\n",
    "    \"\"\"\n",
    "    # Load all markdown files from `abnormal/` directory\n",
    "    loader = DirectoryLoader(path = path, glob=\"**/*.md\", loader_cls=TextLoader)\n",
    "    docs_list = loader.load()\n",
    "    \n",
    "    ## Put into dictionary \n",
    "    docs_names = [Path(doc.metadata[\"source\"]).stem for doc in docs_list]\n",
    "    docs_dict = dict(zip(docs_names, docs_list))\n",
    "    \n",
    "    # Split\n",
    "    ## Split Headings\n",
    "    headers_to_split_on = [\n",
    "        (\"#\", \"Header 1\"),\n",
    "        (\"##\", \"Header 2\"),\n",
    "        (\"###\", \"Header 3\"),\n",
    "    ]\n",
    "\n",
    "    ## MD splits\n",
    "    markdown_splitter = MarkdownHeaderTextSplitter(\n",
    "        headers_to_split_on=headers_to_split_on, strip_headers=False\n",
    "    )\n",
    "    md_header_splits_dict = {name: markdown_splitter.split_text(doc.page_content) for name, doc in docs_dict.items()}\n",
    "    return md_header_splits_dict"
   ]
  },
  {
   "cell_type": "code",
   "execution_count": 14,
   "metadata": {},
   "outputs": [
    {
     "data": {
      "text/plain": [
       "{'abnormal_kidney': [Document(page_content='Order findings as:\\n1. Kidney size and echogenicity\\n2. (If any) Renal cyst(s)\\n3. (If any) Renal stone, hydronephrosis, or solid mass.  \\n```markdown\\n**Kidneys:** <kidney_size_echo>. <renal_cyst>. <renal_stone_hydro_solid_mass>.\\n```', metadata={'Header 1': 'Kidney Findings'}),\n",
       "  Document(page_content='Definition:  \\n\"Parenchymatous kidney disease\" := normal kidney size but increased echogenicity.\\n\"Chronic parenchymatous kidney disease\" := small kidney size and increased echogenicity.  \\nIf one kidney is abnormal and the other is normal, report findings for each kidneys.  \\nHere is the format:  \\n```markdown\\n**Kidneys:** `[Normal | Small]` size with (mildly) increased parenchymal echogenicity of the `[right | left | both]` kidney(s). No stone, hydronephrosis or solid mass.\\n**IMPRESSION:**\\n- (Chronic) parenchymatous disease of `[right | left | both]` kidney(s).\\n```  \\nExamples:  \\n- Parenchymatous right kidney and normal left kidney:  \\n```markdown\\n**Kidneys:** Normal size with mildly increased parenchymal echogenicity of the right kidney. Normal size and parenchymal echogenicity of left kidney. No stone, hydronephrosis or solid mass.\\n**IMPRESSION:**\\n- Parenchymatous disease of right kidney.\\n```  \\n- Chronic parenchymatous of both kidneys:  \\n```markdown\\n**Kidneys:** Small size with increased parenchymal echogenicity of both kidneys. No stone, hydronephrosis or solid mass.\\n**IMPRESSION:**\\n- Chronic parenchymatous disease of both kidneys.\\n```', metadata={'Header 1': 'Kidney Findings', 'Header 3': '(Chronic) Parenchymatous Kidney Disease'}),\n",
       "  Document(page_content='Here is how to report renal cortical cyst according to Bosniak classification system.  \\n#### Bosniak 1 (Simple Cyst)  \\nUse this phase: \"simple cortical cyst(s)\" with <quantifier> as described in the english style guide.  \\n```markdown\\n**Kidneys:** Normal size and parenchymal echogenicity of both kidneys. <quantifier> simple cortical cyst(s) at `[right | left | both]` kidney(s). No stone, hydronephrosis or solid mass.\\n**IMPRESSION:**\\n- <quantifier> simple `[right | left | bilateral]` cyst(s)\\n```  \\nExamples:  \\n```markdown\\n**Kidneys:** Normal size and parenchymal echogenicity of both kidneys. A 0.5-cm simple cortical cyst at right kidney. No stone, hydronephrosis or solid mass.\\n**IMPRESSION:**\\n- A 0.5-cm simple right renal cyst.\\n```  \\n```markdown\\n**Kidneys:** Normal size and parenchymal echogenicity of both kidneys. A few simple cortical cysts at both kidneys, measuring up to 2.0 cm. No stone, hydronephrosis or solid mass.\\n**IMPRESSION:**\\n- A few simple bilateral renal cysts, measuring up to 2.0 cm.\\n```', metadata={'Header 1': 'Kidney Findings', 'Header 3': 'Renal Cortical Cyst(s)'}),\n",
       "  Document(page_content='```markdown\\n**Kidneys:** Normal size and parenchymal echogenicity of both kidneys. <quantifier> non-obstructing caliceal stone(s) at `[right | left | both]` kidney(s).  No hydronephrosis or solid mass.\\n**IMPRESSION:**\\n- <quantifier> non-obstructing caliceal stone(s) at `[right | left | both]` kidney(s)\\n```  \\nExamples:  \\n```markdown\\n**Kidneys:** Normal size and parenchymal echogenicity of both kidneys. A few non-obstructing caliceal stones at right kidney.  No hydronephrosis or solid mass.\\n**IMPRESSION:**\\n- A few non-obstructing caliceal stones at right kidney.\\n```', metadata={'Header 1': 'Kidney Findings', 'Header 3': 'Renal Stone'})],\n",
       " 'abnormal_liver': [Document(page_content='```markdown\\n**Liver:** Normal size and (mildly) `[increased | coarse]` parenchymal echogenicity. No focal lesion.\\n**IMPRESSION:**\\n- (Mild) parenchymatous disease of the liver without focal lesion.\\n```', metadata={'Header 1': 'Liver Abnormal Findings', 'Header 3': 'Parenchymatous Liver Disease'}),\n",
       "  Document(page_content='#### Mild Fatty Liver  \\n```markdown\\n**Liver:** Normal size with mildly increased parenchymal echogenicity of the liver. No focal lesion.\\n**IMPRESSION:**\\n- Mild fatty liver without focal lesion.\\n```  \\n#### Moderate Fatty Liver  \\n```markdown\\n**Liver:** Normal size with diffusely increased parenchymal echogenicity of the liver, causing imparied visualization of intrahepatic vasculature. No focal lesion.\\n**IMPRESSION:**\\n- Moderate fatty liver without focal lesion.\\n```  \\n#### Severe Fatty Liver  \\n```markdown\\n**Liver:** Normal size with diffusely increased parenchymal echogenicity of the liver, causing imparied visualization of intrahepatic vasculature and right hemidiaphragm. No focal lesion.\\n**IMPRESSION:**\\n- Severe fatty liver without focal lesion.\\n```  \\n#### Focal Fat Sparing  \\nIf focal fat sparing area is present, add the following line in the `liver` field after the fatty liver sentence.  \\n```markdown\\n**Liver:** <fatty_liver_findings>. Geographic hypoechoic areas `[at | adjacent to]` `[periportal region | gallbladder fossa]`, likely a focal fat sparing.\\n**IMPRESSION:**\\n- <fatty_liver_impression> with focal fat sparing at <focal_fat_sparing_location>\\n```  \\nExample:  \\n```markdown\\n**Liver:** Normal size with mildly increased parenchymal echogenicity of the liver. Geographic hypoechoic areas at periportal region, likely a focal fat sparing. No gross mass.\\n**IMPRESSION:**\\n- Severe fatty liver with focal fat sparing at periportal region.\\n```', metadata={'Header 1': 'Liver Abnormal Findings', 'Header 3': 'Fatty Liver'}),\n",
       "  Document(page_content='```markdown\\n**Liver:** `[Normal size | Enlarged caudate lobe]` with diffusely coarsen parenchymal echogenicity and surface nodularity. Portal vein enlarged, measuring ___ cm. No focal lesion.\\n**Spleen:** `[Normal in size | Spleenomegaly]`.\\n**IMPRESSION:**\\n- Liver cirrhosis without focal lesion.\\n```', metadata={'Header 1': 'Liver Abnormal Findings', 'Header 3': 'Cirrhosis'})],\n",
       " 'abnormal_gallbladder': [Document(page_content='Order findings as:\\n1. Gallbladder distension\\n2. Gallbladder adenomyomatosis\\n3. Gallstone or bile sludge  \\n```markdown\\n**Gallbladder:** <gallbladder_distend>. <gallbladder_adeno>. <gallbladder_stone_or_sludge>.\\n```', metadata={'Header 1': 'Gallbladder Abnormal Findings'}),\n",
       "  Document(page_content='```markdown\\n**Gallbladder:** Focal adenomyomatosis of the gallbladder.\\n**IMPRESSION:**\\n- Focal adenomyomatosis of the gallbladder.\\n```', metadata={'Header 1': 'Gallbladder Abnormal Findings', 'Header 3': 'Gallbladder Adenomyomatosis'}),\n",
       "  Document(page_content='```markdown\\n**Gallbladder:** Distended gallbladder containing `[a ?-cm | a few | many ]` gallstone(s), (measuring up to ___ cm). No gallbladder wall thickening or pericholecystic fluid. No mass\\n**IMPRESSION:**\\n- `[a ?-cm | a few | many ]` gallstone(s) without evidence of cholecystitis\\n```', metadata={'Header 1': 'Gallbladder Abnormal Findings', 'Header 3': 'Gallstone(s)'}),\n",
       "  Document(page_content='```markdown\\n**Gallbladder:** Distended gallbladder containing bile sludge. No gallbladder wall thickening or pericholecystic fluid. No stone or mass.\\n**IMPRESSION:**\\n- Bile sludge in gallbladder without evidence of cholecystitis\\n```', metadata={'Header 1': 'Gallbladder Abnormal Findings', 'Header 3': 'Bile sludge'}),\n",
       "  Document(page_content='```markdown\\n**Gallbladder:** Surgically absent gallbladder.\\n```', metadata={'Header 1': 'Gallbladder Abnormal Findings', 'Header 3': 'Post-cholecystectomy'}),\n",
       "  Document(page_content='```markdown\\n**Gallbladder:** Collapsed gallbladder with retained cholecystostomy tube. No stone.\\n**IMPRESSION:**\\n- Proper position of cholecystosmy tube within collapsed gallbladder.\\n```', metadata={'Header 1': 'Gallbladder Abnormal Findings', 'Header 3': 'Cholecystostomy'})]}"
      ]
     },
     "execution_count": 14,
     "metadata": {},
     "output_type": "execute_result"
    }
   ],
   "source": [
    "md_header_splits_dict = load_split_md_docs(path=\"abnormal/\")\n",
    "md_header_splits_dict"
   ]
  },
  {
   "cell_type": "markdown",
   "metadata": {},
   "source": [
    "## Create Vector Storage"
   ]
  },
  {
   "cell_type": "code",
   "execution_count": 15,
   "metadata": {},
   "outputs": [],
   "source": [
    "from langchain_chroma import Chroma\n",
    "from langchain_openai import OpenAIEmbeddings\n",
    "\n",
    "chroma_dict = {name: Chroma.from_documents(md_header_splits, embedding=OpenAIEmbeddings()) \n",
    "               for name, md_header_splits in md_header_splits_dict.items()}"
   ]
  },
  {
   "cell_type": "markdown",
   "metadata": {},
   "source": [
    "## Retriver"
   ]
  },
  {
   "cell_type": "markdown",
   "metadata": {},
   "source": [
    "### Function: `get_chroma_retrievers()`"
   ]
  },
  {
   "cell_type": "code",
   "execution_count": 16,
   "metadata": {},
   "outputs": [],
   "source": [
    "from langchain_core.vectorstores import VectorStoreRetriever\n",
    "from langchain_chroma import Chroma\n",
    "from langchain_openai import OpenAIEmbeddings\n",
    "\n",
    "\n",
    "def get_chroma_retrievers(docs_splits_dict: Dict[str, List[Document]],\n",
    "                          search_type: str = \"similarity\",\n",
    "                          search_kwargs: Dict[str, any] = {\"k\": 3},\n",
    "                          embedding=OpenAIEmbeddings()\n",
    "                          ) -> Dict[str, VectorStoreRetriever]:\n",
    "\n",
    "    chroma_dict = {name: Chroma.from_documents(docs_splits, embedding=embedding)\n",
    "                   for name, docs_splits in docs_splits_dict.items()}\n",
    "\n",
    "    retriever_dict = {\n",
    "        name: chroma.as_retriever(\n",
    "            search_type=search_type,\n",
    "            search_kwargs=search_kwargs)\n",
    "        for name, chroma in chroma_dict.items()\n",
    "    }\n",
    "\n",
    "    return retriever_dict"
   ]
  },
  {
   "cell_type": "code",
   "execution_count": 17,
   "metadata": {},
   "outputs": [
    {
     "data": {
      "text/plain": [
       "{'abnormal_kidney': VectorStoreRetriever(tags=['Chroma', 'OpenAIEmbeddings'], vectorstore=<langchain_chroma.vectorstores.Chroma object at 0x1378b9150>, search_kwargs={'k': 3}),\n",
       " 'abnormal_liver': VectorStoreRetriever(tags=['Chroma', 'OpenAIEmbeddings'], vectorstore=<langchain_chroma.vectorstores.Chroma object at 0x117f0f6a0>, search_kwargs={'k': 3}),\n",
       " 'abnormal_gallbladder': VectorStoreRetriever(tags=['Chroma', 'OpenAIEmbeddings'], vectorstore=<langchain_chroma.vectorstores.Chroma object at 0x1378bbc10>, search_kwargs={'k': 3})}"
      ]
     },
     "execution_count": 17,
     "metadata": {},
     "output_type": "execute_result"
    }
   ],
   "source": [
    "retriever_dict = get_chroma_retrievers(md_header_splits_dict)\n",
    "retriever_dict"
   ]
  },
  {
   "cell_type": "markdown",
   "metadata": {},
   "source": [
    "### HowTo: Retriever Single Doc"
   ]
  },
  {
   "cell_type": "code",
   "execution_count": 18,
   "metadata": {},
   "outputs": [
    {
     "data": {
      "text/plain": [
       "VectorStoreRetriever(tags=['Chroma', 'OpenAIEmbeddings'], vectorstore=<langchain_chroma.vectorstores.Chroma object at 0x13740bc70>, search_kwargs={'k': 2})"
      ]
     },
     "execution_count": 18,
     "metadata": {},
     "output_type": "execute_result"
    }
   ],
   "source": [
    "# Single\n",
    "retriever_liver = chroma_dict[\"abnormal_liver\"].as_retriever(\n",
    "    search_type=\"similarity\", search_kwargs={'k': 2}\n",
    "    )\n",
    "retriever_liver"
   ]
  },
  {
   "cell_type": "code",
   "execution_count": 19,
   "metadata": {},
   "outputs": [
    {
     "data": {
      "text/plain": [
       "[Document(page_content='#### Mild Fatty Liver  \\n```markdown\\n**Liver:** Normal size with mildly increased parenchymal echogenicity of the liver. No focal lesion.\\n**IMPRESSION:**\\n- Mild fatty liver without focal lesion.\\n```  \\n#### Moderate Fatty Liver  \\n```markdown\\n**Liver:** Normal size with diffusely increased parenchymal echogenicity of the liver, causing imparied visualization of intrahepatic vasculature. No focal lesion.\\n**IMPRESSION:**\\n- Moderate fatty liver without focal lesion.\\n```  \\n#### Severe Fatty Liver  \\n```markdown\\n**Liver:** Normal size with diffusely increased parenchymal echogenicity of the liver, causing imparied visualization of intrahepatic vasculature and right hemidiaphragm. No focal lesion.\\n**IMPRESSION:**\\n- Severe fatty liver without focal lesion.\\n```  \\n#### Focal Fat Sparing  \\nIf focal fat sparing area is present, add the following line in the `liver` field after the fatty liver sentence.  \\n```markdown\\n**Liver:** <fatty_liver_findings>. Geographic hypoechoic areas `[at | adjacent to]` `[periportal region | gallbladder fossa]`, likely a focal fat sparing.\\n**IMPRESSION:**\\n- <fatty_liver_impression> with focal fat sparing at <focal_fat_sparing_location>\\n```  \\nExample:  \\n```markdown\\n**Liver:** Normal size with mildly increased parenchymal echogenicity of the liver. Geographic hypoechoic areas at periportal region, likely a focal fat sparing. No gross mass.\\n**IMPRESSION:**\\n- Severe fatty liver with focal fat sparing at periportal region.\\n```', metadata={'Header 1': 'Liver Abnormal Findings', 'Header 3': 'Fatty Liver'}),\n",
       " Document(page_content='#### Mild Fatty Liver  \\n```markdown\\n**Liver:** Normal size with mildly increased parenchymal echogenicity of the liver. No focal lesion.\\n**IMPRESSION:**\\n- Mild fatty liver without focal lesion.\\n```  \\n#### Moderate Fatty Liver  \\n```markdown\\n**Liver:** Normal size with diffusely increased parenchymal echogenicity of the liver, causing imparied visualization of intrahepatic vasculature. No focal lesion.\\n**IMPRESSION:**\\n- Moderate fatty liver without focal lesion.\\n```  \\n#### Severe Fatty Liver  \\n```markdown\\n**Liver:** Normal size with diffusely increased parenchymal echogenicity of the liver, causing imparied visualization of intrahepatic vasculature and right hemidiaphragm. No focal lesion.\\n**IMPRESSION:**\\n- Severe fatty liver without focal lesion.\\n```  \\n#### Focal Fat Sparing  \\nIf focal fat sparing area is present, add the following line in the `liver` field after the fatty liver sentence.  \\n```markdown\\n**Liver:** <fatty_liver_findings>. Geographic hypoechoic areas `[at | adjacent to]` `[periportal region | gallbladder fossa]`, likely a focal fat sparing.\\n**IMPRESSION:**\\n- <fatty_liver_impression> with focal fat sparing at <focal_fat_sparing_location>\\n```  \\nExample:  \\n```markdown\\n**Liver:** Normal size with mildly increased parenchymal echogenicity of the liver. Geographic hypoechoic areas at periportal region, likely a focal fat sparing. No gross mass.\\n**IMPRESSION:**\\n- Severe fatty liver with focal fat sparing at periportal region.\\n```', metadata={'Header 1': 'Liver Abnormal Findings', 'Header 3': 'Fatty Liver'})]"
      ]
     },
     "execution_count": 19,
     "metadata": {},
     "output_type": "execute_result"
    }
   ],
   "source": [
    "retriever_liver.invoke(\"Search the following only in `metadata` field: Fatty\")"
   ]
  },
  {
   "cell_type": "code",
   "execution_count": 20,
   "metadata": {},
   "outputs": [
    {
     "data": {
      "text/plain": [
       "[Document(page_content='```markdown\\n**Liver:** Normal size and (mildly) `[increased | coarse]` parenchymal echogenicity. No focal lesion.\\n**IMPRESSION:**\\n- (Mild) parenchymatous disease of the liver without focal lesion.\\n```', metadata={'Header 1': 'Liver Abnormal Findings', 'Header 3': 'Parenchymatous Liver Disease'}),\n",
       " Document(page_content='```markdown\\n**Liver:** Normal size and (mildly) `[increased | coarse]` parenchymal echogenicity. No focal lesion.\\n**IMPRESSION:**\\n- (Mild) parenchymatous disease of the liver without focal lesion.\\n```', metadata={'Header 1': 'Liver Abnormal Findings', 'Header 3': 'Parenchymatous Liver Disease'})]"
      ]
     },
     "execution_count": 20,
     "metadata": {},
     "output_type": "execute_result"
    }
   ],
   "source": [
    "retriever_liver.invoke(\"Search the following only in `metadata` field: Paren\")"
   ]
  },
  {
   "cell_type": "markdown",
   "metadata": {},
   "source": [
    "### HowTo: Retriver Multi Docs"
   ]
  },
  {
   "cell_type": "code",
   "execution_count": 21,
   "metadata": {},
   "outputs": [
    {
     "data": {
      "text/plain": [
       "{'abnormal_kidney': VectorStoreRetriever(tags=['Chroma', 'OpenAIEmbeddings'], vectorstore=<langchain_chroma.vectorstores.Chroma object at 0x1372f2770>, search_kwargs={'k': 3}),\n",
       " 'abnormal_liver': VectorStoreRetriever(tags=['Chroma', 'OpenAIEmbeddings'], vectorstore=<langchain_chroma.vectorstores.Chroma object at 0x13740bc70>, search_kwargs={'k': 3}),\n",
       " 'abnormal_gallbladder': VectorStoreRetriever(tags=['Chroma', 'OpenAIEmbeddings'], vectorstore=<langchain_chroma.vectorstores.Chroma object at 0x14718c490>, search_kwargs={'k': 3})}"
      ]
     },
     "execution_count": 21,
     "metadata": {},
     "output_type": "execute_result"
    }
   ],
   "source": [
    "retriever_dict = {\n",
    "    name: chroma.as_retriever(\n",
    "    search_type=\"similarity\",\n",
    "    # For diversity\n",
    "    search_kwargs={'k': 3},) \n",
    "    for name, chroma in chroma_dict.items()\n",
    "                  }\n",
    "\n",
    "retriever_dict"
   ]
  },
  {
   "cell_type": "markdown",
   "metadata": {},
   "source": [
    "### Test Retrieve"
   ]
  },
  {
   "cell_type": "code",
   "execution_count": 22,
   "metadata": {},
   "outputs": [
    {
     "data": {
      "text/plain": [
       "[Document(page_content='#### Mild Fatty Liver  \\n```markdown\\n**Liver:** Normal size with mildly increased parenchymal echogenicity of the liver. No focal lesion.\\n**IMPRESSION:**\\n- Mild fatty liver without focal lesion.\\n```  \\n#### Moderate Fatty Liver  \\n```markdown\\n**Liver:** Normal size with diffusely increased parenchymal echogenicity of the liver, causing imparied visualization of intrahepatic vasculature. No focal lesion.\\n**IMPRESSION:**\\n- Moderate fatty liver without focal lesion.\\n```  \\n#### Severe Fatty Liver  \\n```markdown\\n**Liver:** Normal size with diffusely increased parenchymal echogenicity of the liver, causing imparied visualization of intrahepatic vasculature and right hemidiaphragm. No focal lesion.\\n**IMPRESSION:**\\n- Severe fatty liver without focal lesion.\\n```  \\n#### Focal Fat Sparing  \\nIf focal fat sparing area is present, add the following line in the `liver` field after the fatty liver sentence.  \\n```markdown\\n**Liver:** <fatty_liver_findings>. Geographic hypoechoic areas `[at | adjacent to]` `[periportal region | gallbladder fossa]`, likely a focal fat sparing.\\n**IMPRESSION:**\\n- <fatty_liver_impression> with focal fat sparing at <focal_fat_sparing_location>\\n```  \\nExample:  \\n```markdown\\n**Liver:** Normal size with mildly increased parenchymal echogenicity of the liver. Geographic hypoechoic areas at periportal region, likely a focal fat sparing. No gross mass.\\n**IMPRESSION:**\\n- Severe fatty liver with focal fat sparing at periportal region.\\n```', metadata={'Header 1': 'Liver Abnormal Findings', 'Header 3': 'Fatty Liver'}),\n",
       " Document(page_content='#### Mild Fatty Liver  \\n```markdown\\n**Liver:** Normal size with mildly increased parenchymal echogenicity of the liver. No focal lesion.\\n**IMPRESSION:**\\n- Mild fatty liver without focal lesion.\\n```  \\n#### Moderate Fatty Liver  \\n```markdown\\n**Liver:** Normal size with diffusely increased parenchymal echogenicity of the liver, causing imparied visualization of intrahepatic vasculature. No focal lesion.\\n**IMPRESSION:**\\n- Moderate fatty liver without focal lesion.\\n```  \\n#### Severe Fatty Liver  \\n```markdown\\n**Liver:** Normal size with diffusely increased parenchymal echogenicity of the liver, causing imparied visualization of intrahepatic vasculature and right hemidiaphragm. No focal lesion.\\n**IMPRESSION:**\\n- Severe fatty liver without focal lesion.\\n```  \\n#### Focal Fat Sparing  \\nIf focal fat sparing area is present, add the following line in the `liver` field after the fatty liver sentence.  \\n```markdown\\n**Liver:** <fatty_liver_findings>. Geographic hypoechoic areas `[at | adjacent to]` `[periportal region | gallbladder fossa]`, likely a focal fat sparing.\\n**IMPRESSION:**\\n- <fatty_liver_impression> with focal fat sparing at <focal_fat_sparing_location>\\n```  \\nExample:  \\n```markdown\\n**Liver:** Normal size with mildly increased parenchymal echogenicity of the liver. Geographic hypoechoic areas at periportal region, likely a focal fat sparing. No gross mass.\\n**IMPRESSION:**\\n- Severe fatty liver with focal fat sparing at periportal region.\\n```', metadata={'Header 1': 'Liver Abnormal Findings', 'Header 3': 'Fatty Liver'}),\n",
       " Document(page_content='```markdown\\n**Liver:** Normal size and (mildly) `[increased | coarse]` parenchymal echogenicity. No focal lesion.\\n**IMPRESSION:**\\n- (Mild) parenchymatous disease of the liver without focal lesion.\\n```', metadata={'Header 1': 'Liver Abnormal Findings', 'Header 3': 'Parenchymatous Liver Disease'})]"
      ]
     },
     "execution_count": 22,
     "metadata": {},
     "output_type": "execute_result"
    }
   ],
   "source": [
    "retriever_dict[\"abnormal_gallbladder\"].invoke(\"Search the following only in `metadata` field: Mild fatty liver\")"
   ]
  },
  {
   "cell_type": "code",
   "execution_count": 23,
   "metadata": {},
   "outputs": [
    {
     "data": {
      "text/plain": [
       "[Document(page_content='Order findings as:\\n1. Kidney size and echogenicity\\n2. (If any) Renal cyst(s)\\n3. (If any) Renal stone, hydronephrosis, or solid mass.  \\n```markdown\\n**Kidneys:** <kidney_size_echo>. <renal_cyst>. <renal_stone_hydro_solid_mass>.\\n```', metadata={'Header 1': 'Kidney Findings'}),\n",
       " Document(page_content='Order findings as:\\n1. Kidney size and echogenicity\\n2. (If any) Renal cyst(s)\\n3. (If any) Renal stone, hydronephrosis, or solid mass.  \\n```markdown\\n**Kidneys:** <kidney_size_echo>. <renal_cyst>. <renal_stone_hydro_solid_mass>.\\n```', metadata={'Header 1': 'Kidney Findings'}),\n",
       " Document(page_content='```markdown\\n**Kidneys:** Normal size and parenchymal echogenicity of both kidneys. <quantifier> non-obstructing caliceal stone(s) at `[right | left | both]` kidney(s).  No hydronephrosis or solid mass.\\n**IMPRESSION:**\\n- <quantifier> non-obstructing caliceal stone(s) at `[right | left | both]` kidney(s)\\n```  \\nExamples:  \\n```markdown\\n**Kidneys:** Normal size and parenchymal echogenicity of both kidneys. A few non-obstructing caliceal stones at right kidney.  No hydronephrosis or solid mass.\\n**IMPRESSION:**\\n- A few non-obstructing caliceal stones at right kidney.\\n```', metadata={'Header 1': 'Kidney Findings', 'Header 3': 'Renal Stone'})]"
      ]
     },
     "execution_count": 23,
     "metadata": {},
     "output_type": "execute_result"
    }
   ],
   "source": [
    "retriever_dict[\"abnormal_gallbladder\"].invoke(\"Search the following only in `metadata` field: 2-mm left renal stone\")"
   ]
  },
  {
   "cell_type": "markdown",
   "metadata": {},
   "source": [
    "## Retrive Abnormal Docs"
   ]
  },
  {
   "cell_type": "markdown",
   "metadata": {},
   "source": [
    "### Function: `retrieve_abnormal_docs()`"
   ]
  },
  {
   "cell_type": "code",
   "execution_count": 49,
   "metadata": {},
   "outputs": [],
   "source": [
    "from typing import Dict, List\n",
    "import itertools\n",
    "from langchain_core.documents import Document\n",
    "\n",
    "def retrieve_abnormal_docs(retriever_dict: Dict[str, VectorStoreRetriever], findings: Findings) -> Dict[str, List[Document]]:\n",
    "    \n",
    "    out_dict = {}\n",
    "    \n",
    "    for key, retriever in retriever_dict.items():\n",
    "        # Loop per organs\n",
    "        query_list = findings.to_dict()[key]\n",
    "        out_dict[key] = remove_duplicates(list(\n",
    "            # Un-nest List\n",
    "            itertools.chain(\n",
    "                # Query for each item in findings\n",
    "                *[retriever.invoke(f\"Search only in the `metadata` field\\n\\nQuery: {query}\") \n",
    "                for query in query_list]\n",
    "            )\n",
    "        ))\n",
    "    \n",
    "    return out_dict\n",
    "    \n",
    "\n",
    "# Helper\n",
    "def remove_duplicates(objects):\n",
    "    unique_objects = []\n",
    "    for obj in objects:\n",
    "        if obj not in unique_objects:\n",
    "            unique_objects.append(obj)\n",
    "    return unique_objects\n",
    "    "
   ]
  },
  {
   "cell_type": "code",
   "execution_count": 48,
   "metadata": {},
   "outputs": [
    {
     "data": {
      "text/plain": [
       "{'abnormal_kidney': [Document(page_content='```markdown\\n**Kidneys:** Normal size and parenchymal echogenicity of both kidneys. <quantifier> non-obstructing caliceal stone(s) at `[right | left | both]` kidney(s).  No hydronephrosis or solid mass.\\n**IMPRESSION:**\\n- <quantifier> non-obstructing caliceal stone(s) at `[right | left | both]` kidney(s)\\n```  \\nExamples:  \\n```markdown\\n**Kidneys:** Normal size and parenchymal echogenicity of both kidneys. A few non-obstructing caliceal stones at right kidney.  No hydronephrosis or solid mass.\\n**IMPRESSION:**\\n- A few non-obstructing caliceal stones at right kidney.\\n```', metadata={'Header 1': 'Kidney Findings', 'Header 3': 'Renal Stone'}),\n",
       "  Document(page_content='Order findings as:\\n1. Kidney size and echogenicity\\n2. (If any) Renal cyst(s)\\n3. (If any) Renal stone, hydronephrosis, or solid mass.  \\n```markdown\\n**Kidneys:** <kidney_size_echo>. <renal_cyst>. <renal_stone_hydro_solid_mass>.\\n```', metadata={'Header 1': 'Kidney Findings'})],\n",
       " 'abnormal_liver': [Document(page_content='#### Mild Fatty Liver  \\n```markdown\\n**Liver:** Normal size with mildly increased parenchymal echogenicity of the liver. No focal lesion.\\n**IMPRESSION:**\\n- Mild fatty liver without focal lesion.\\n```  \\n#### Moderate Fatty Liver  \\n```markdown\\n**Liver:** Normal size with diffusely increased parenchymal echogenicity of the liver, causing imparied visualization of intrahepatic vasculature. No focal lesion.\\n**IMPRESSION:**\\n- Moderate fatty liver without focal lesion.\\n```  \\n#### Severe Fatty Liver  \\n```markdown\\n**Liver:** Normal size with diffusely increased parenchymal echogenicity of the liver, causing imparied visualization of intrahepatic vasculature and right hemidiaphragm. No focal lesion.\\n**IMPRESSION:**\\n- Severe fatty liver without focal lesion.\\n```  \\n#### Focal Fat Sparing  \\nIf focal fat sparing area is present, add the following line in the `liver` field after the fatty liver sentence.  \\n```markdown\\n**Liver:** <fatty_liver_findings>. Geographic hypoechoic areas `[at | adjacent to]` `[periportal region | gallbladder fossa]`, likely a focal fat sparing.\\n**IMPRESSION:**\\n- <fatty_liver_impression> with focal fat sparing at <focal_fat_sparing_location>\\n```  \\nExample:  \\n```markdown\\n**Liver:** Normal size with mildly increased parenchymal echogenicity of the liver. Geographic hypoechoic areas at periportal region, likely a focal fat sparing. No gross mass.\\n**IMPRESSION:**\\n- Severe fatty liver with focal fat sparing at periportal region.\\n```', metadata={'Header 1': 'Liver Abnormal Findings', 'Header 3': 'Fatty Liver'})],\n",
       " 'abnormal_gallbladder': []}"
      ]
     },
     "execution_count": 48,
     "metadata": {},
     "output_type": "execute_result"
    }
   ],
   "source": [
    "abn_doc_dict1 = retrieve_abnormal_docs(retriever_dict, findings1)\n",
    "abn_doc_dict1"
   ]
  },
  {
   "cell_type": "markdown",
   "metadata": {},
   "source": [
    "### HowTo: Retrive Abnormal Docs"
   ]
  },
  {
   "cell_type": "code",
   "execution_count": 24,
   "metadata": {},
   "outputs": [],
   "source": [
    "from us_report_ext.main import get_findings, load_split_md_docs\n",
    "from us_report_ext.findings import Findings"
   ]
  },
  {
   "cell_type": "code",
   "execution_count": 25,
   "metadata": {},
   "outputs": [
    {
     "data": {
      "text/plain": [
       "Findings(abnormal_liver=[Liver(finding='Mild fatty liver')], abnormal_kidney=[Kidney(finding='2-mm left renal stone'), Kidney(finding='5-mm right renal cyst')], abnormal_gallbladder=[])"
      ]
     },
     "execution_count": 25,
     "metadata": {},
     "output_type": "execute_result"
    }
   ],
   "source": [
    "# User Text to Extract\n",
    "user_text1 = \"\"\"Generate US report with these findings:\n",
    "- Mild fatty liver\n",
    "- 2-mm left renal stone, 5-mm right renal cyst\n",
    "\"\"\"\n",
    "findings1 = get_findings(input_text=user_text1)\n",
    "findings1"
   ]
  },
  {
   "cell_type": "code",
   "execution_count": 26,
   "metadata": {},
   "outputs": [
    {
     "data": {
      "text/plain": [
       "{'abnormal_kidney': VectorStoreRetriever(tags=['Chroma', 'OpenAIEmbeddings'], vectorstore=<langchain_chroma.vectorstores.Chroma object at 0x1487e6f50>, search_kwargs={'k': 3}),\n",
       " 'abnormal_liver': VectorStoreRetriever(tags=['Chroma', 'OpenAIEmbeddings'], vectorstore=<langchain_chroma.vectorstores.Chroma object at 0x1378fb220>, search_kwargs={'k': 3}),\n",
       " 'abnormal_gallbladder': VectorStoreRetriever(tags=['Chroma', 'OpenAIEmbeddings'], vectorstore=<langchain_chroma.vectorstores.Chroma object at 0x1487e4e80>, search_kwargs={'k': 3})}"
      ]
     },
     "execution_count": 26,
     "metadata": {},
     "output_type": "execute_result"
    }
   ],
   "source": [
    "# Retriever\n",
    "docs_dict = load_split_md_docs(\"abnormal\")\n",
    "retriever_dict = get_chroma_retrievers(docs_dict)\n",
    "retriever_dict"
   ]
  },
  {
   "cell_type": "code",
   "execution_count": 27,
   "metadata": {},
   "outputs": [
    {
     "data": {
      "text/plain": [
       "{'abnormal_liver': ['Mild fatty liver'],\n",
       " 'abnormal_kidney': ['2-mm left renal stone', '5-mm right renal cyst'],\n",
       " 'abnormal_gallbladder': []}"
      ]
     },
     "execution_count": 27,
     "metadata": {},
     "output_type": "execute_result"
    }
   ],
   "source": [
    "findings1.to_dict()"
   ]
  },
  {
   "cell_type": "code",
   "execution_count": 33,
   "metadata": {},
   "outputs": [
    {
     "data": {
      "text/plain": [
       "[Document(page_content='#### Mild Fatty Liver  \\n```markdown\\n**Liver:** Normal size with mildly increased parenchymal echogenicity of the liver. No focal lesion.\\n**IMPRESSION:**\\n- Mild fatty liver without focal lesion.\\n```  \\n#### Moderate Fatty Liver  \\n```markdown\\n**Liver:** Normal size with diffusely increased parenchymal echogenicity of the liver, causing imparied visualization of intrahepatic vasculature. No focal lesion.\\n**IMPRESSION:**\\n- Moderate fatty liver without focal lesion.\\n```  \\n#### Severe Fatty Liver  \\n```markdown\\n**Liver:** Normal size with diffusely increased parenchymal echogenicity of the liver, causing imparied visualization of intrahepatic vasculature and right hemidiaphragm. No focal lesion.\\n**IMPRESSION:**\\n- Severe fatty liver without focal lesion.\\n```  \\n#### Focal Fat Sparing  \\nIf focal fat sparing area is present, add the following line in the `liver` field after the fatty liver sentence.  \\n```markdown\\n**Liver:** <fatty_liver_findings>. Geographic hypoechoic areas `[at | adjacent to]` `[periportal region | gallbladder fossa]`, likely a focal fat sparing.\\n**IMPRESSION:**\\n- <fatty_liver_impression> with focal fat sparing at <focal_fat_sparing_location>\\n```  \\nExample:  \\n```markdown\\n**Liver:** Normal size with mildly increased parenchymal echogenicity of the liver. Geographic hypoechoic areas at periportal region, likely a focal fat sparing. No gross mass.\\n**IMPRESSION:**\\n- Severe fatty liver with focal fat sparing at periportal region.\\n```', metadata={'Header 1': 'Liver Abnormal Findings', 'Header 3': 'Fatty Liver'}),\n",
       " Document(page_content='#### Mild Fatty Liver  \\n```markdown\\n**Liver:** Normal size with mildly increased parenchymal echogenicity of the liver. No focal lesion.\\n**IMPRESSION:**\\n- Mild fatty liver without focal lesion.\\n```  \\n#### Moderate Fatty Liver  \\n```markdown\\n**Liver:** Normal size with diffusely increased parenchymal echogenicity of the liver, causing imparied visualization of intrahepatic vasculature. No focal lesion.\\n**IMPRESSION:**\\n- Moderate fatty liver without focal lesion.\\n```  \\n#### Severe Fatty Liver  \\n```markdown\\n**Liver:** Normal size with diffusely increased parenchymal echogenicity of the liver, causing imparied visualization of intrahepatic vasculature and right hemidiaphragm. No focal lesion.\\n**IMPRESSION:**\\n- Severe fatty liver without focal lesion.\\n```  \\n#### Focal Fat Sparing  \\nIf focal fat sparing area is present, add the following line in the `liver` field after the fatty liver sentence.  \\n```markdown\\n**Liver:** <fatty_liver_findings>. Geographic hypoechoic areas `[at | adjacent to]` `[periportal region | gallbladder fossa]`, likely a focal fat sparing.\\n**IMPRESSION:**\\n- <fatty_liver_impression> with focal fat sparing at <focal_fat_sparing_location>\\n```  \\nExample:  \\n```markdown\\n**Liver:** Normal size with mildly increased parenchymal echogenicity of the liver. Geographic hypoechoic areas at periportal region, likely a focal fat sparing. No gross mass.\\n**IMPRESSION:**\\n- Severe fatty liver with focal fat sparing at periportal region.\\n```', metadata={'Header 1': 'Liver Abnormal Findings', 'Header 3': 'Fatty Liver'}),\n",
       " Document(page_content='#### Mild Fatty Liver  \\n```markdown\\n**Liver:** Normal size with mildly increased parenchymal echogenicity of the liver. No focal lesion.\\n**IMPRESSION:**\\n- Mild fatty liver without focal lesion.\\n```  \\n#### Moderate Fatty Liver  \\n```markdown\\n**Liver:** Normal size with diffusely increased parenchymal echogenicity of the liver, causing imparied visualization of intrahepatic vasculature. No focal lesion.\\n**IMPRESSION:**\\n- Moderate fatty liver without focal lesion.\\n```  \\n#### Severe Fatty Liver  \\n```markdown\\n**Liver:** Normal size with diffusely increased parenchymal echogenicity of the liver, causing imparied visualization of intrahepatic vasculature and right hemidiaphragm. No focal lesion.\\n**IMPRESSION:**\\n- Severe fatty liver without focal lesion.\\n```  \\n#### Focal Fat Sparing  \\nIf focal fat sparing area is present, add the following line in the `liver` field after the fatty liver sentence.  \\n```markdown\\n**Liver:** <fatty_liver_findings>. Geographic hypoechoic areas `[at | adjacent to]` `[periportal region | gallbladder fossa]`, likely a focal fat sparing.\\n**IMPRESSION:**\\n- <fatty_liver_impression> with focal fat sparing at <focal_fat_sparing_location>\\n```  \\nExample:  \\n```markdown\\n**Liver:** Normal size with mildly increased parenchymal echogenicity of the liver. Geographic hypoechoic areas at periportal region, likely a focal fat sparing. No gross mass.\\n**IMPRESSION:**\\n- Severe fatty liver with focal fat sparing at periportal region.\\n```', metadata={'Header 1': 'Liver Abnormal Findings', 'Header 3': 'Fatty Liver'})]"
      ]
     },
     "execution_count": 33,
     "metadata": {},
     "output_type": "execute_result"
    }
   ],
   "source": [
    "query = \"Mild fatty liver\"\n",
    "\n",
    "pr_temp_retriever = f\"Search only in the `metadata` field\\n\\nQuery: {query}\"\n",
    "retriever_dict[\"abnormal_liver\"].invoke(pr_temp_retriever)"
   ]
  },
  {
   "cell_type": "code",
   "execution_count": 44,
   "metadata": {},
   "outputs": [
    {
     "name": "stdout",
     "output_type": "stream",
     "text": [
      "abnormal_kidney tags=['Chroma', 'OpenAIEmbeddings'] vectorstore=<langchain_chroma.vectorstores.Chroma object at 0x1487e6f50> search_kwargs={'k': 3}\n",
      "abnormal_liver tags=['Chroma', 'OpenAIEmbeddings'] vectorstore=<langchain_chroma.vectorstores.Chroma object at 0x1378fb220> search_kwargs={'k': 3}\n",
      "abnormal_gallbladder tags=['Chroma', 'OpenAIEmbeddings'] vectorstore=<langchain_chroma.vectorstores.Chroma object at 0x1487e4e80> search_kwargs={'k': 3}\n"
     ]
    },
    {
     "data": {
      "text/plain": [
       "{'abnormal_kidney': [Document(page_content='```markdown\\n**Kidneys:** Normal size and parenchymal echogenicity of both kidneys. <quantifier> non-obstructing caliceal stone(s) at `[right | left | both]` kidney(s).  No hydronephrosis or solid mass.\\n**IMPRESSION:**\\n- <quantifier> non-obstructing caliceal stone(s) at `[right | left | both]` kidney(s)\\n```  \\nExamples:  \\n```markdown\\n**Kidneys:** Normal size and parenchymal echogenicity of both kidneys. A few non-obstructing caliceal stones at right kidney.  No hydronephrosis or solid mass.\\n**IMPRESSION:**\\n- A few non-obstructing caliceal stones at right kidney.\\n```', metadata={'Header 1': 'Kidney Findings', 'Header 3': 'Renal Stone'}),\n",
       "  Document(page_content='Order findings as:\\n1. Kidney size and echogenicity\\n2. (If any) Renal cyst(s)\\n3. (If any) Renal stone, hydronephrosis, or solid mass.  \\n```markdown\\n**Kidneys:** <kidney_size_echo>. <renal_cyst>. <renal_stone_hydro_solid_mass>.\\n```', metadata={'Header 1': 'Kidney Findings'})],\n",
       " 'abnormal_liver': [Document(page_content='#### Mild Fatty Liver  \\n```markdown\\n**Liver:** Normal size with mildly increased parenchymal echogenicity of the liver. No focal lesion.\\n**IMPRESSION:**\\n- Mild fatty liver without focal lesion.\\n```  \\n#### Moderate Fatty Liver  \\n```markdown\\n**Liver:** Normal size with diffusely increased parenchymal echogenicity of the liver, causing imparied visualization of intrahepatic vasculature. No focal lesion.\\n**IMPRESSION:**\\n- Moderate fatty liver without focal lesion.\\n```  \\n#### Severe Fatty Liver  \\n```markdown\\n**Liver:** Normal size with diffusely increased parenchymal echogenicity of the liver, causing imparied visualization of intrahepatic vasculature and right hemidiaphragm. No focal lesion.\\n**IMPRESSION:**\\n- Severe fatty liver without focal lesion.\\n```  \\n#### Focal Fat Sparing  \\nIf focal fat sparing area is present, add the following line in the `liver` field after the fatty liver sentence.  \\n```markdown\\n**Liver:** <fatty_liver_findings>. Geographic hypoechoic areas `[at | adjacent to]` `[periportal region | gallbladder fossa]`, likely a focal fat sparing.\\n**IMPRESSION:**\\n- <fatty_liver_impression> with focal fat sparing at <focal_fat_sparing_location>\\n```  \\nExample:  \\n```markdown\\n**Liver:** Normal size with mildly increased parenchymal echogenicity of the liver. Geographic hypoechoic areas at periportal region, likely a focal fat sparing. No gross mass.\\n**IMPRESSION:**\\n- Severe fatty liver with focal fat sparing at periportal region.\\n```', metadata={'Header 1': 'Liver Abnormal Findings', 'Header 3': 'Fatty Liver'})],\n",
       " 'abnormal_gallbladder': []}"
      ]
     },
     "execution_count": 44,
     "metadata": {},
     "output_type": "execute_result"
    }
   ],
   "source": [
    "import itertools\n",
    "\n",
    "out_dict = {}\n",
    "\n",
    "for key, retriever in retriever_dict.items():\n",
    "    print(key,  retriever)\n",
    "    query_list = findings1.to_dict()[key]\n",
    "    out_dict[key] = remove_duplicates(list(\n",
    "        # Un-nest List\n",
    "        itertools.chain(\n",
    "            *[retriever.invoke(f\"Search only in the `metadata` field\\n\\nQuery: {query}\") \n",
    "              for query in query_list]\n",
    "        )\n",
    "    ))\n",
    "    \n",
    "out_dict"
   ]
  }
 ],
 "metadata": {
  "kernelspec": {
   "display_name": "Python 3",
   "language": "python",
   "name": "python3"
  },
  "language_info": {
   "codemirror_mode": {
    "name": "ipython",
    "version": 3
   },
   "file_extension": ".py",
   "mimetype": "text/x-python",
   "name": "python",
   "nbconvert_exporter": "python",
   "pygments_lexer": "ipython3",
   "version": "3.10.10"
  }
 },
 "nbformat": 4,
 "nbformat_minor": 2
}
