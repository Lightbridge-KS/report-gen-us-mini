{
 "cells": [
  {
   "cell_type": "markdown",
   "metadata": {},
   "source": [
    "# Overview"
   ]
  },
  {
   "cell_type": "code",
   "execution_count": 2,
   "metadata": {},
   "outputs": [],
   "source": [
    "from us_report_ext import generate_report"
   ]
  },
  {
   "cell_type": "markdown",
   "metadata": {},
   "source": [
    "## Normal Report"
   ]
  },
  {
   "cell_type": "code",
   "execution_count": 3,
   "metadata": {},
   "outputs": [
    {
     "name": "stdout",
     "output_type": "stream",
     "text": [
      "**US OF THE UPPER ABDOMEN (MINI)**\n",
      "\n",
      "**FINDINGS:**\n",
      "\n",
      "**Liver:** Normal size and parenchymal echogenicity. No focal lesion.\n",
      "**Gallbladder:** Well-distended gallbladder. No stone or mass.\n",
      "**Kidneys:** Normal size and parenchymal echogenicity of both kidneys. No stone, hydronephrosis or solid mass.\n",
      "\n",
      "**IMPRESSION:**\n",
      "- Normal liver parenchyma without focal lesion.\n"
     ]
    }
   ],
   "source": [
    "report1 = generate_report(\"Generate normal US report\")\n",
    "print(report1)"
   ]
  },
  {
   "cell_type": "markdown",
   "metadata": {},
   "source": [
    "## Abnormal Report"
   ]
  },
  {
   "cell_type": "code",
   "execution_count": 4,
   "metadata": {},
   "outputs": [
    {
     "name": "stdout",
     "output_type": "stream",
     "text": [
      "**US OF THE UPPER ABDOMEN (MINI)**\n",
      "\n",
      "**FINDINGS:**\n",
      "\n",
      "**Liver:** Normal size with mildly increased parenchymal echogenicity of the liver. No focal lesion.\n",
      "**Gallbladder:** Well-distended gallbladder. No stone or mass.\n",
      "**Kidneys:** Normal size and parenchymal echogenicity of both kidneys. A 6-mm left renal stone. A 5-mm right renal cyst.\n",
      "\n",
      "**IMPRESSION:**\n",
      "- Mild fatty liver without focal lesion.\n",
      "- A 6-mm left renal stone.\n",
      "- A 5-mm right renal cyst.\n"
     ]
    }
   ],
   "source": [
    "# User Text to Extract\n",
    "user_text2 = \"\"\"Generate US report with these findings:\n",
    "- Mild fatty liver\n",
    "- A 6-mm left renal stone, A 5-mm right renal cyst\n",
    "\"\"\"\n",
    "\n",
    "report2 = generate_report(user_text2)\n",
    "print(report2)"
   ]
  },
  {
   "cell_type": "code",
   "execution_count": 5,
   "metadata": {},
   "outputs": [
    {
     "name": "stdout",
     "output_type": "stream",
     "text": [
      "**US OF THE UPPER ABDOMEN (MINI)**\n",
      "\n",
      "**FINDINGS:**\n",
      "\n",
      "**Liver:** Normal size with diffusely increased parenchymal echogenicity of the liver, causing impaired visualization of intrahepatic vasculature and right hemidiaphragm. No focal lesion.\n",
      "**Gallbladder:** Distended gallbladder containing a 2-cm gallstone. No gallbladder wall thickening or pericholecystic fluid. No mass.\n",
      "**Kidneys:** Normal size and parenchymal echogenicity of both kidneys. A 1-cm non-obstructing caliceal stone at the left kidney. A few simple cortical cysts at the left kidney. No hydronephrosis or solid mass.\n",
      "\n",
      "**IMPRESSION:**\n",
      "- Severe fatty liver without focal lesion.\n",
      "- A 1-cm non-obstructing caliceal stone at the left kidney.\n",
      "- A few simple left renal cysts.\n"
     ]
    }
   ],
   "source": [
    "# User Text to Extract\n",
    "user_text3 = \"\"\"Generate US report with these findings:\n",
    "- Severe fatty liver\n",
    "- A 1-cm left renal stone, A few simple left renal cysts\n",
    "- 2-cm gallstone\n",
    "\"\"\"\n",
    "\n",
    "report3 = generate_report(user_text3)\n",
    "print(report3)"
   ]
  }
 ],
 "metadata": {
  "kernelspec": {
   "display_name": "Python 3",
   "language": "python",
   "name": "python3"
  },
  "language_info": {
   "codemirror_mode": {
    "name": "ipython",
    "version": 3
   },
   "file_extension": ".py",
   "mimetype": "text/x-python",
   "name": "python",
   "nbconvert_exporter": "python",
   "pygments_lexer": "ipython3",
   "version": "3.10.10"
  }
 },
 "nbformat": 4,
 "nbformat_minor": 2
}
