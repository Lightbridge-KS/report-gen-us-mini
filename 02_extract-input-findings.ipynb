{
 "cells": [
  {
   "cell_type": "markdown",
   "metadata": {},
   "source": [
    "# Extract Input Findings\n",
    "\n",
    "**Goal:** Extract abnormal findings from user input for each organs"
   ]
  },
  {
   "cell_type": "code",
   "execution_count": 23,
   "metadata": {},
   "outputs": [],
   "source": [
    "from typing import Optional, List\n",
    "from langchain_openai import ChatOpenAI\n",
    "from langchain_core.pydantic_v1 import BaseModel, Field\n",
    "from langchain_core.prompts import ChatPromptTemplate"
   ]
  },
  {
   "cell_type": "code",
   "execution_count": 2,
   "metadata": {},
   "outputs": [],
   "source": [
    "llm = ChatOpenAI(model=\"gpt-3.5-turbo\")"
   ]
  },
  {
   "cell_type": "markdown",
   "metadata": {},
   "source": [
    "## User Input"
   ]
  },
  {
   "cell_type": "code",
   "execution_count": 24,
   "metadata": {},
   "outputs": [],
   "source": [
    "# User Text to Extract\n",
    "user_text1 = \"\"\"Generate US report with these findings:\n",
    "- Mild fatty liver\n",
    "- 2-mm left renal stone, 5-mm right renal cyst\n",
    "\"\"\""
   ]
  },
  {
   "cell_type": "markdown",
   "metadata": {},
   "source": [
    "## Schema"
   ]
  },
  {
   "cell_type": "code",
   "execution_count": 32,
   "metadata": {},
   "outputs": [
    {
     "name": "stdout",
     "output_type": "stream",
     "text": [
      "Abnormal finding for the Liver. If findings about Liver is not provided or Liver is normal, return `None`.\n",
      "Abnormal finding for the Kidney. If findings about Kidney is not provided or Kidney is normal, return `None`.\n",
      "Abnormal finding for the GallBladder. If findings about GallBladder is not provided or GallBladder is normal, return `None`.\n"
     ]
    }
   ],
   "source": [
    "class Organ(BaseModel):\n",
    "    \"\"\"Base class for organ-related information\"\"\"\n",
    "    finding: Optional[str] = Field(default=None, description=\"\")\n",
    "\n",
    "    def __init__(self, **data):\n",
    "        super().__init__(**data)\n",
    "        # Dynamically set the description\n",
    "        cls_nm = self.__class__.__name__\n",
    "        self.__fields__[\"finding\"].field_info.description = f\"Abnormal finding for the {cls_nm}. If findings about {cls_nm} is not provided or {cls_nm} is normal, return `None`.\"\n",
    "\n",
    "    class Config:\n",
    "        # This ensures that the fields are allowed to be inherited and validated correctly.\n",
    "        allow_population_by_field_name = True\n",
    "        \n",
    "class Liver(Organ):\n",
    "    \"\"\"Information about Liver finding\"\"\"\n",
    " \n",
    "\n",
    "class Kidney(Organ):\n",
    "    \"\"\"Information about Kidney finding\"\"\"\n",
    "   \n",
    "class GallBladder(Organ):\n",
    "    \"\"\"Information about GallBladder finding\"\"\"\n",
    "    \n",
    "\n",
    "class Findings(BaseModel):\n",
    "    \"\"\"Extracted information from each organs.\"\"\"\n",
    "    # Creates a model so that we can extract multiple entities.\n",
    "    abnormal_liver: List[Liver]\n",
    "    abnormal_kidney: List[Kidney]\n",
    "    abnormal_gallbladder: List[GallBladder]\n",
    "    \n",
    "    def to_dict(self):\n",
    "        return {\n",
    "            \"abnormal_liver\": [sub.finding for sub in self.abnormal_liver],\n",
    "            \"abnormal_kidney\": [sub.finding for sub in self.abnormal_kidney],\n",
    "            \"abnormal_gallbladder\": [sub.finding for sub in self.abnormal_gallbladder],\n",
    "        }\n",
    "\n",
    "# Example usage\n",
    "liver_instance = Liver()\n",
    "kidney_instance = Kidney()\n",
    "gallbladder_instance = GallBladder()\n",
    "\n",
    "print(liver_instance.__fields__[\"finding\"].field_info.description)  \n",
    "print(kidney_instance.__fields__[\"finding\"].field_info.description)  \n",
    "print(gallbladder_instance.__fields__[\"finding\"].field_info.description)"
   ]
  },
  {
   "cell_type": "markdown",
   "metadata": {},
   "source": [
    "## Extractor"
   ]
  },
  {
   "cell_type": "code",
   "execution_count": 18,
   "metadata": {},
   "outputs": [],
   "source": [
    "# Define a custom prompt to provide instructions and any additional context.\n",
    "# 1) You can add examples into the prompt template to improve extraction quality\n",
    "# 2) Introduce additional parameters to take context into account (e.g., include metadata\n",
    "#    about the document from which the text was extracted.)\n",
    "prompt = ChatPromptTemplate.from_messages(\n",
    "    [\n",
    "        (\n",
    "            \"system\",\n",
    "            \"You are an expert extraction algorithm. \"\n",
    "            \"Only extract relevant information from the text. \"\n",
    "            \"If you do not know the value of an attribute asked to extract, \"\n",
    "            \"return `None` for the attribute's value.\",\n",
    "        ),\n",
    "        # Please see the how-to about improving performance with\n",
    "        # reference examples.\n",
    "        # MessagesPlaceholder('examples'),\n",
    "        (\"human\", \"{input_text}\"),\n",
    "    ]\n",
    ")"
   ]
  },
  {
   "cell_type": "markdown",
   "metadata": {},
   "source": [
    "## Create Chain & Execute"
   ]
  },
  {
   "cell_type": "markdown",
   "metadata": {},
   "source": [
    "### Single Extract "
   ]
  },
  {
   "cell_type": "code",
   "execution_count": 20,
   "metadata": {},
   "outputs": [],
   "source": [
    "runnable_liver = prompt | llm.with_structured_output(schema=Liver)\n",
    "runnable_kidney = prompt | llm.with_structured_output(schema=Kidney)\n",
    "runnable_gallbladder = prompt | llm.with_structured_output(schema=GallBladder)"
   ]
  },
  {
   "cell_type": "code",
   "execution_count": 33,
   "metadata": {},
   "outputs": [
    {
     "name": "stdout",
     "output_type": "stream",
     "text": [
      "Generate US report with these findings:\n",
      "- Mild fatty liver\n",
      "- 2-mm left renal stone, 5-mm right renal cyst\n",
      "\n"
     ]
    }
   ],
   "source": [
    "# User Text to Extract\n",
    "print(user_text1)\n"
   ]
  },
  {
   "cell_type": "code",
   "execution_count": 25,
   "metadata": {},
   "outputs": [
    {
     "name": "stdout",
     "output_type": "stream",
     "text": [
      "finding='Mild fatty liver'\n",
      "finding='2-mm left renal stone, 5-mm right renal cyst'\n",
      "finding=None\n"
     ]
    }
   ],
   "source": [
    "# Liver Findings\n",
    "liver1 = runnable_liver.invoke({\"input_text\": user_text1})\n",
    "print(liver1)\n",
    "\n",
    "# Kidney Findings\n",
    "kidney1 = runnable_kidney.invoke({\"input_text\": user_text1})\n",
    "print(kidney1)\n",
    "\n",
    "# Gallbladder Findings\n",
    "gallbladder1 = runnable_gallbladder.invoke({\"input_text\": user_text1})\n",
    "print(gallbladder1)"
   ]
  },
  {
   "cell_type": "markdown",
   "metadata": {},
   "source": [
    "### Multiple Extract"
   ]
  },
  {
   "cell_type": "code",
   "execution_count": 34,
   "metadata": {},
   "outputs": [],
   "source": [
    "runnable = prompt | llm.with_structured_output(schema=Findings)"
   ]
  },
  {
   "cell_type": "code",
   "execution_count": 35,
   "metadata": {},
   "outputs": [
    {
     "data": {
      "text/plain": [
       "Findings(abnormal_liver=[Liver(finding='Mild fatty liver')], abnormal_kidney=[Kidney(finding='2-mm left renal stone'), Kidney(finding='5-mm right renal cyst')], abnormal_gallbladder=[])"
      ]
     },
     "execution_count": 35,
     "metadata": {},
     "output_type": "execute_result"
    }
   ],
   "source": [
    "res = runnable.invoke({\"input_text\": user_text1})\n",
    "res"
   ]
  },
  {
   "cell_type": "code",
   "execution_count": 38,
   "metadata": {},
   "outputs": [
    {
     "data": {
      "text/plain": [
       "{'abnormal_liver': ['Mild fatty liver'],\n",
       " 'abnormal_kidney': ['2-mm left renal stone', '5-mm right renal cyst'],\n",
       " 'abnormal_gallbladder': []}"
      ]
     },
     "execution_count": 38,
     "metadata": {},
     "output_type": "execute_result"
    }
   ],
   "source": [
    "res.to_dict()"
   ]
  },
  {
   "cell_type": "markdown",
   "metadata": {},
   "source": [
    "## Final Wrapper"
   ]
  },
  {
   "cell_type": "code",
   "execution_count": 14,
   "metadata": {},
   "outputs": [],
   "source": [
    "from langchain_openai import ChatOpenAI\n",
    "from langchain_core.prompts import ChatPromptTemplate\n",
    "\n",
    "\n",
    "def get_findings(input_text,\n",
    "                 llm=ChatOpenAI(model=\"gpt-3.5-turbo\")):\n",
    "    prompt = ChatPromptTemplate.from_messages(\n",
    "        [\n",
    "            (\n",
    "                \"system\",\n",
    "                \"You are an expert extraction algorithm. \"\n",
    "                \"Only extract relevant information from the text. \"\n",
    "                \"If you do not know the value of an attribute asked to extract, \"\n",
    "                \"return `None` for the attribute's value.\",\n",
    "            ),\n",
    "            # Please see the how-to about improving performance with\n",
    "            # reference examples.\n",
    "            # MessagesPlaceholder('examples'),\n",
    "            (\"human\", \"{input_text}\"),\n",
    "        ])\n",
    "\n",
    "    runnable = prompt | llm.with_structured_output(schema=Findings)\n",
    "    res = runnable.invoke({\"input_text\": input_text})\n",
    "    return res\n"
   ]
  },
  {
   "cell_type": "code",
   "execution_count": 15,
   "metadata": {},
   "outputs": [
    {
     "data": {
      "text/plain": [
       "Findings(liver_findings=[Liver(finding='Fatty liver')], kidney_findings=[Kidney(finding='2-cm renal cyst')], gallbladder_findings=[])"
      ]
     },
     "execution_count": 15,
     "metadata": {},
     "output_type": "execute_result"
    }
   ],
   "source": [
    "get_findings(\"Fatty liver, 2-cm renal cyst\")"
   ]
  }
 ],
 "metadata": {
  "kernelspec": {
   "display_name": "Python 3",
   "language": "python",
   "name": "python3"
  },
  "language_info": {
   "codemirror_mode": {
    "name": "ipython",
    "version": 3
   },
   "file_extension": ".py",
   "mimetype": "text/x-python",
   "name": "python",
   "nbconvert_exporter": "python",
   "pygments_lexer": "ipython3",
   "version": "3.10.10"
  }
 },
 "nbformat": 4,
 "nbformat_minor": 2
}
