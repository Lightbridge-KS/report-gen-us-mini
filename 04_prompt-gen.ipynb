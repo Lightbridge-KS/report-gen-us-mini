{
 "cells": [
  {
   "cell_type": "markdown",
   "metadata": {},
   "source": [
    "# Contruct Prompt"
   ]
  },
  {
   "cell_type": "code",
   "execution_count": 1,
   "metadata": {},
   "outputs": [],
   "source": [
    "from langchain_openai import ChatOpenAI, OpenAIEmbeddings\n",
    "from us_report_ext import (get_findings, \n",
    "                           load_split_md_docs, \n",
    "                           get_chroma_retrievers, \n",
    "                           retrieve_abnormal_docs)\n",
    "\n",
    "from us_report_ext._utils import read_markdown"
   ]
  },
  {
   "cell_type": "code",
   "execution_count": 2,
   "metadata": {},
   "outputs": [],
   "source": [
    "llm_main = ChatOpenAI(model=\"gpt-3.5-turbo\") # Main LLM for Prompt\n",
    "llm_input = ChatOpenAI(model=\"gpt-3.5-turbo\") # LLM for instruct input\n",
    "embedding = OpenAIEmbeddings() # Chroma Embedding"
   ]
  },
  {
   "cell_type": "markdown",
   "metadata": {},
   "source": [
    "## User input to findings"
   ]
  },
  {
   "cell_type": "code",
   "execution_count": 3,
   "metadata": {},
   "outputs": [],
   "source": [
    "# User Text to Extract\n",
    "user_text1 = \"\"\"Generate US report with these findings:\n",
    "- Mild fatty liver\n",
    "- 2-mm left renal stone, 5-mm right renal cyst\n",
    "- A 3-mm gallstone\n",
    "\"\"\""
   ]
  },
  {
   "cell_type": "code",
   "execution_count": 4,
   "metadata": {},
   "outputs": [
    {
     "data": {
      "text/plain": [
       "Findings(abnormal_liver=[Liver(finding='Mild fatty liver')], abnormal_kidney=[Kidney(finding='2-mm left renal stone'), Kidney(finding='5-mm right renal cyst')], abnormal_gallbladder=[GallBladder(finding='3-mm gallstone')])"
      ]
     },
     "execution_count": 4,
     "metadata": {},
     "output_type": "execute_result"
    }
   ],
   "source": [
    "findings1 = get_findings(input_text=user_text1, llm = llm_input)\n",
    "findings1"
   ]
  },
  {
   "cell_type": "code",
   "execution_count": 5,
   "metadata": {},
   "outputs": [
    {
     "data": {
      "text/plain": [
       "{'abnormal_liver': ['Mild fatty liver'],\n",
       " 'abnormal_kidney': ['2-mm left renal stone', '5-mm right renal cyst'],\n",
       " 'abnormal_gallbladder': ['3-mm gallstone']}"
      ]
     },
     "execution_count": 5,
     "metadata": {},
     "output_type": "execute_result"
    }
   ],
   "source": [
    "findings1.to_dict()"
   ]
  },
  {
   "cell_type": "markdown",
   "metadata": {},
   "source": [
    "## RAG"
   ]
  },
  {
   "cell_type": "markdown",
   "metadata": {},
   "source": [
    "### Retrivers"
   ]
  },
  {
   "cell_type": "code",
   "execution_count": 6,
   "metadata": {},
   "outputs": [
    {
     "data": {
      "text/plain": [
       "{'abnormal_kidney': VectorStoreRetriever(tags=['Chroma', 'OpenAIEmbeddings'], vectorstore=<langchain_chroma.vectorstores.Chroma object at 0x1194be3b0>, search_kwargs={'k': 3}),\n",
       " 'abnormal_liver': VectorStoreRetriever(tags=['Chroma', 'OpenAIEmbeddings'], vectorstore=<langchain_chroma.vectorstores.Chroma object at 0x11d4cceb0>, search_kwargs={'k': 3}),\n",
       " 'abnormal_gallbladder': VectorStoreRetriever(tags=['Chroma', 'OpenAIEmbeddings'], vectorstore=<langchain_chroma.vectorstores.Chroma object at 0x12d2708e0>, search_kwargs={'k': 3})}"
      ]
     },
     "execution_count": 6,
     "metadata": {},
     "output_type": "execute_result"
    }
   ],
   "source": [
    "md_header_splits_dict = load_split_md_docs(\"abnormal\")\n",
    "retriever_dict = get_chroma_retrievers(md_header_splits_dict, embedding= embedding)\n",
    "retriever_dict"
   ]
  },
  {
   "cell_type": "markdown",
   "metadata": {},
   "source": [
    "### Retrieve Using `Findings`"
   ]
  },
  {
   "cell_type": "code",
   "execution_count": 7,
   "metadata": {},
   "outputs": [
    {
     "data": {
      "text/plain": [
       "{'abnormal_kidney': [Document(page_content='### Renal Stone  \\n```markdown\\n**Kidneys:** Normal size and parenchymal echogenicity of both kidneys. <quantifier> non-obstructing caliceal stone(s) at `[right | left | both]` kidney(s).  No hydronephrosis or solid mass.\\n**IMPRESSION:**\\n- <quantifier> non-obstructing caliceal stone(s) at `[right | left | both]` kidney(s)\\n```  \\nExamples:  \\n```markdown\\n**Kidneys:** Normal size and parenchymal echogenicity of both kidneys. A few non-obstructing caliceal stones at right kidney.  No hydronephrosis or solid mass.\\n**IMPRESSION:**\\n- A few non-obstructing caliceal stones at right kidney.\\n```', metadata={'Header 1': 'Kidney Findings', 'Header 3': 'Renal Stone'}),\n",
       "  Document(page_content='# Kidney Findings  \\nOrder findings as:\\n1. Kidney size and echogenicity\\n2. (If any) Renal cyst(s)\\n3. (If any) Renal stone, hydronephrosis, or solid mass.  \\n```markdown\\n**Kidneys:** <kidney_size_echo>. <renal_cyst>. <renal_stone_hydro_solid_mass>.\\n```', metadata={'Header 1': 'Kidney Findings'}),\n",
       "  Document(page_content='### Renal Cortical Cyst(s)  \\nHere is how to report renal cortical cyst according to Bosniak classification system.  \\n#### Bosniak 1 (Simple Cyst)  \\nUse this phase: \"simple cortical cyst(s)\" with <quantifier> as described in the english style guide.  \\n```markdown\\n**Kidneys:** Normal size and parenchymal echogenicity of both kidneys. <quantifier> simple cortical cyst(s) at `[right | left | both]` kidney(s). No stone, hydronephrosis or solid mass.\\n**IMPRESSION:**\\n- <quantifier> simple `[right | left | bilateral]` cyst(s)\\n```  \\nExamples:  \\n```markdown\\n**Kidneys:** Normal size and parenchymal echogenicity of both kidneys. A 0.5-cm simple cortical cyst at right kidney. No stone, hydronephrosis or solid mass.\\n**IMPRESSION:**\\n- A 0.5-cm simple right renal cyst.\\n```  \\n```markdown\\n**Kidneys:** Normal size and parenchymal echogenicity of both kidneys. A few simple cortical cysts at both kidneys, measuring up to 2.0 cm. No stone, hydronephrosis or solid mass.\\n**IMPRESSION:**\\n- A few simple bilateral renal cysts, measuring up to 2.0 cm.\\n```', metadata={'Header 1': 'Kidney Findings', 'Header 3': 'Renal Cortical Cyst(s)'})],\n",
       " 'abnormal_liver': [Document(page_content='### Fatty Liver  \\n#### Mild Fatty Liver  \\n```markdown\\n**Liver:** Normal size with mildly increased parenchymal echogenicity of the liver. No focal lesion.\\n**IMPRESSION:**\\n- Mild fatty liver without focal lesion.\\n```  \\n#### Moderate Fatty Liver  \\n```markdown\\n**Liver:** Normal size with diffusely increased parenchymal echogenicity of the liver, causing imparied visualization of intrahepatic vasculature. No focal lesion.\\n**IMPRESSION:**\\n- Moderate fatty liver without focal lesion.\\n```  \\n#### Severe Fatty Liver  \\n```markdown\\n**Liver:** Normal size with diffusely increased parenchymal echogenicity of the liver, causing imparied visualization of intrahepatic vasculature and right hemidiaphragm. No focal lesion.\\n**IMPRESSION:**\\n- Severe fatty liver without focal lesion.\\n```  \\n#### Focal Fat Sparing  \\nIf focal fat sparing area is present, add the following line in the `liver` field after the fatty liver sentence.  \\n```markdown\\n**Liver:** <fatty_liver_findings>. Geographic hypoechoic areas `[at | adjacent to]` `[periportal region | gallbladder fossa]`, likely a focal fat sparing.\\n**IMPRESSION:**\\n- <fatty_liver_impression> with focal fat sparing at <focal_fat_sparing_location>\\n```  \\nExample:  \\n```markdown\\n**Liver:** Normal size with mildly increased parenchymal echogenicity of the liver. Geographic hypoechoic areas at periportal region, likely a focal fat sparing. No gross mass.\\n**IMPRESSION:**\\n- Severe fatty liver with focal fat sparing at periportal region.\\n```', metadata={'Header 1': 'Liver Abnormal Findings', 'Header 3': 'Fatty Liver'}),\n",
       "  Document(page_content='# Liver Abnormal Findings  \\n### Parenchymatous Liver Disease  \\n```markdown\\n**Liver:** Normal size and (mildly) `[increased | coarse]` parenchymal echogenicity. No focal lesion.\\n**IMPRESSION:**\\n- (Mild) parenchymatous disease of the liver without focal lesion.\\n```', metadata={'Header 1': 'Liver Abnormal Findings', 'Header 3': 'Parenchymatous Liver Disease'}),\n",
       "  Document(page_content='### Cirrhosis  \\n```markdown\\n**Liver:** `[Normal size | Enlarged caudate lobe]` with diffusely coarsen parenchymal echogenicity and surface nodularity. Portal vein enlarged, measuring ___ cm. No focal lesion.\\n**Spleen:** `[Normal in size | Spleenomegaly]`.\\n**IMPRESSION:**\\n- Liver cirrhosis without focal lesion.\\n```', metadata={'Header 1': 'Liver Abnormal Findings', 'Header 3': 'Cirrhosis'})],\n",
       " 'abnormal_gallbladder': [Document(page_content='### Gallstone(s)  \\n```markdown\\n**Gallbladder:** Distended gallbladder containing `[a ?-cm | a few | many ]` gallstone(s), (measuring up to ___ cm). No gallbladder wall thickening or pericholecystic fluid. No mass\\n**IMPRESSION:**\\n- `[a ?-cm | a few | many ]` gallstone(s) without evidence of cholecystitis\\n```', metadata={'Header 1': 'Gallbladder Abnormal Findings', 'Header 3': 'Gallstone(s)'}),\n",
       "  Document(page_content='# Gallbladder Abnormal Findings  \\nOrder findings as:\\n1. Gallbladder distension\\n2. Gallbladder adenomyomatosis\\n3. Gallstone or bile sludge  \\n```markdown\\n**Gallbladder:** <gallbladder_distend>. <gallbladder_adeno>. <gallbladder_stone_or_sludge>.\\n```', metadata={'Header 1': 'Gallbladder Abnormal Findings'}),\n",
       "  Document(page_content='### Bile sludge  \\n```markdown\\n**Gallbladder:** Distended gallbladder containing bile sludge. No gallbladder wall thickening or pericholecystic fluid. No stone or mass.\\n**IMPRESSION:**\\n- Bile sludge in gallbladder without evidence of cholecystitis\\n```', metadata={'Header 1': 'Gallbladder Abnormal Findings', 'Header 3': 'Bile sludge'})]}"
      ]
     },
     "execution_count": 7,
     "metadata": {},
     "output_type": "execute_result"
    }
   ],
   "source": [
    "abn_doc_dict1 = retrieve_abnormal_docs(retriever_dict, findings1)\n",
    "abn_doc_dict1"
   ]
  },
  {
   "cell_type": "code",
   "execution_count": 16,
   "metadata": {},
   "outputs": [
    {
     "data": {
      "text/plain": [
       "'### Renal Stone  \\n```markdown\\n**Kidneys:** Normal size and parenchymal echogenicity of both kidneys. <quantifier> non-obstructing caliceal stone(s) at `[right | left | both]` kidney(s).  No hydronephrosis or solid mass.\\n**IMPRESSION:**\\n- <quantifier> non-obstructing caliceal stone(s) at `[right | left | both]` kidney(s)\\n```  \\nExamples:  \\n```markdown\\n**Kidneys:** Normal size and parenchymal echogenicity of both kidneys. A few non-obstructing caliceal stones at right kidney.  No hydronephrosis or solid mass.\\n**IMPRESSION:**\\n- A few non-obstructing caliceal stones at right kidney.\\n```\\n\\n# Kidney Findings  \\nOrder findings as:\\n1. Kidney size and echogenicity\\n2. (If any) Renal cyst(s)\\n3. (If any) Renal stone, hydronephrosis, or solid mass.  \\n```markdown\\n**Kidneys:** <kidney_size_echo>. <renal_cyst>. <renal_stone_hydro_solid_mass>.\\n```\\n\\n### Renal Cortical Cyst(s)  \\nHere is how to report renal cortical cyst according to Bosniak classification system.  \\n#### Bosniak 1 (Simple Cyst)  \\nUse this phase: \"simple cortical cyst(s)\" with <quantifier> as described in the english style guide.  \\n```markdown\\n**Kidneys:** Normal size and parenchymal echogenicity of both kidneys. <quantifier> simple cortical cyst(s) at `[right | left | both]` kidney(s). No stone, hydronephrosis or solid mass.\\n**IMPRESSION:**\\n- <quantifier> simple `[right | left | bilateral]` cyst(s)\\n```  \\nExamples:  \\n```markdown\\n**Kidneys:** Normal size and parenchymal echogenicity of both kidneys. A 0.5-cm simple cortical cyst at right kidney. No stone, hydronephrosis or solid mass.\\n**IMPRESSION:**\\n- A 0.5-cm simple right renal cyst.\\n```  \\n```markdown\\n**Kidneys:** Normal size and parenchymal echogenicity of both kidneys. A few simple cortical cysts at both kidneys, measuring up to 2.0 cm. No stone, hydronephrosis or solid mass.\\n**IMPRESSION:**\\n- A few simple bilateral renal cysts, measuring up to 2.0 cm.\\n```'"
      ]
     },
     "execution_count": 16,
     "metadata": {},
     "output_type": "execute_result"
    }
   ],
   "source": [
    "format_docs(abn_doc_dict1[\"abnormal_kidney\"])"
   ]
  },
  {
   "cell_type": "code",
   "execution_count": 10,
   "metadata": {},
   "outputs": [
    {
     "data": {
      "text/plain": [
       "['### Renal Stone  \\n```markdown\\n**Kidneys:** Normal size and parenchymal echogenicity of both kidneys. <quantifier> non-obstructing caliceal stone(s) at `[right | left | both]` kidney(s).  No hydronephrosis or solid mass.\\n**IMPRESSION:**\\n- <quantifier> non-obstructing caliceal stone(s) at `[right | left | both]` kidney(s)\\n```  \\nExamples:  \\n```markdown\\n**Kidneys:** Normal size and parenchymal echogenicity of both kidneys. A few non-obstructing caliceal stones at right kidney.  No hydronephrosis or solid mass.\\n**IMPRESSION:**\\n- A few non-obstructing caliceal stones at right kidney.\\n```',\n",
       " '# Kidney Findings  \\nOrder findings as:\\n1. Kidney size and echogenicity\\n2. (If any) Renal cyst(s)\\n3. (If any) Renal stone, hydronephrosis, or solid mass.  \\n```markdown\\n**Kidneys:** <kidney_size_echo>. <renal_cyst>. <renal_stone_hydro_solid_mass>.\\n```',\n",
       " '### Renal Cortical Cyst(s)  \\nHere is how to report renal cortical cyst according to Bosniak classification system.  \\n#### Bosniak 1 (Simple Cyst)  \\nUse this phase: \"simple cortical cyst(s)\" with <quantifier> as described in the english style guide.  \\n```markdown\\n**Kidneys:** Normal size and parenchymal echogenicity of both kidneys. <quantifier> simple cortical cyst(s) at `[right | left | both]` kidney(s). No stone, hydronephrosis or solid mass.\\n**IMPRESSION:**\\n- <quantifier> simple `[right | left | bilateral]` cyst(s)\\n```  \\nExamples:  \\n```markdown\\n**Kidneys:** Normal size and parenchymal echogenicity of both kidneys. A 0.5-cm simple cortical cyst at right kidney. No stone, hydronephrosis or solid mass.\\n**IMPRESSION:**\\n- A 0.5-cm simple right renal cyst.\\n```  \\n```markdown\\n**Kidneys:** Normal size and parenchymal echogenicity of both kidneys. A few simple cortical cysts at both kidneys, measuring up to 2.0 cm. No stone, hydronephrosis or solid mass.\\n**IMPRESSION:**\\n- A few simple bilateral renal cysts, measuring up to 2.0 cm.\\n```']"
      ]
     },
     "execution_count": 10,
     "metadata": {},
     "output_type": "execute_result"
    }
   ],
   "source": [
    "[docs.page_content\n",
    " for docs in abn_doc_dict1[\"abnormal_kidney\"]]"
   ]
  },
  {
   "cell_type": "markdown",
   "metadata": {},
   "source": [
    "## Prompt"
   ]
  },
  {
   "cell_type": "markdown",
   "metadata": {},
   "source": [
    "### Function: `get_prompt_template()`"
   ]
  },
  {
   "cell_type": "code",
   "execution_count": 56,
   "metadata": {},
   "outputs": [],
   "source": [
    "def format_docs(docs):\n",
    "    if docs == []:\n",
    "        return \"\"\n",
    "    else:\n",
    "        return \"\\n\\n\".join(doc.page_content for doc in docs)"
   ]
  },
  {
   "cell_type": "code",
   "execution_count": 57,
   "metadata": {},
   "outputs": [],
   "source": [
    "from typing import Dict, List\n",
    "from langchain_core.prompts import ChatPromptTemplate\n",
    "from langchain_core.documents import Document\n",
    "\n",
    "def get_prompt_template(abnormal_doc_dict: Dict[str, List[Document]]):\n",
    "    \n",
    "    pr_text_intro = read_markdown(\"prompt/1_introduction.md\")\n",
    "    pr_text_eng = read_markdown(\"prompt/2_english_style_guide.md\")\n",
    "    pr_text_report_structure = read_markdown(\"prompt/3_report_structure.md\")\n",
    "    pr_text_temp_normal = read_markdown(\"prompt/4_report_template_normal.md\")\n",
    "    pr_text_temp_abn = read_markdown(\"prompt/5_abnormal.md\")\n",
    "    pr_abn_extracted = f\"\"\"\n",
    "\n",
    "    liver:\\n{format_docs(abnormal_doc_dict[\"abnormal_liver\"])}\n",
    "\n",
    "    kidney:\\n{format_docs(abnormal_doc_dict[\"abnormal_kidney\"])}\n",
    "\n",
    "    gallbladder:\\n{format_docs(abnormal_doc_dict[\"abnormal_gallbladder\"])}\n",
    "    \"\"\"\n",
    "\n",
    "    # Join them\n",
    "    pr_text = \"\\n\\n\".join([pr_text_intro, pr_text_eng,\n",
    "                        pr_text_report_structure, pr_text_temp_normal, \n",
    "                        pr_text_temp_abn, pr_abn_extracted]) \n",
    "\n",
    "\n",
    "    prompt = \"\\n\\n\".join([pr_text,\n",
    "                \"\"\"\n",
    "    User input: {user}\n",
    "\n",
    "    Output:\n",
    "    \"\"\"])\n",
    "\n",
    "    prompt_temp = ChatPromptTemplate.from_template(prompt)\n",
    "    return prompt_temp\n",
    "    "
   ]
  },
  {
   "cell_type": "code",
   "execution_count": 59,
   "metadata": {},
   "outputs": [
    {
     "data": {
      "text/plain": [
       "ChatPromptTemplate(input_variables=['user'], messages=[HumanMessagePromptTemplate(prompt=PromptTemplate(input_variables=['user'], template='You are a radiology report writer in my institution. \\n\\nI will provide you:\\n\\n- \"English Style Guide\" for the preferred ways to write phrases or sentences in the report.\\n- \"Reporting Structure\" provides blueprint to build radiology report for each studies.\\n- \"Normal Report Template\" provides normal reporting template and normal findings for each studies.\\n- \"Abnormal Report Template\" provide template to write abnormal findings and corresponding impression for each specific organs and conditions.\\n\\n\\nUser role: \\n- The user (radiologist) will provide you with ultrasound findings.\\n- If findings for each specific organ is not provide, assume normal findings for that organ. \\n- If the user ask \"How do I use you?\", provide the \"User guide\", or if not provided, generate it.\\n\\nYour task: \\n- Build radiology report using \"Reporting Structure\", \"Normal Report Template\", and \"Abnormal Findings Report Template\" with language style according to the \"english style guide\" as provided.\\n- Return output as markdown format (without code block).\\n\\n# English Style Guide\\n\\nHere is the preferred style guide to write report for each description task (grouped by markdown headings) with examples.\\n\\n## Quantifying countable lesion(s) (`<quantifier>`)\\n\\n### One lesion\\n\\nSyntax: `?`-`unit` `lesion`\\n\\nExamples: \\n- \"A 4.2-cm gallstone\"\\n- \"A 5.0-cm renal cyst\"\\n\\nIf multiple dimensions for one lesion is provided, use \"x\" to separate each dimensions.\\n\\nExamples: \"A 5.3x2.5-cm renal cyst\" or \"A renal cyst, measuring 5.3x2.5 cm\"\\n\\n\\n### Two or more lesions\\n\\nHere are the preferred quantifiers and measurement descriptors to write two or more lesion(s):\\n\\n- Preferred quantifiers: \"a few\", \"several\", \"many\"\\n\\n- measurement descriptors: \\n  - \"measuring up to ...\", \"up to ...\"\\n  - \"ranging from ... to ...\"\\n\\nExamples: \\n-  \"A few renal cysts, measuring up to 2.0 cm\"\\n-  \"A few renal cysts, ranging from 1.5 to 2.0 cm\"\\n-  \"Several gallstones, up to 2.0 cm\"\\n-  \"Multiple gallstones, up to 3.0 cm\"\\n\\n\\n# Reporting Structure\\n\\nHere is the radiology report structure for the study \"ultrasound of the upper abdomen\" (in the markdown code blocks).\\n\\n```markdown\\n**US OF THE UPPER ABDOMEN**\\n\\n**FINDINGS:**\\n\\n**Liver:** <liver_findings>\\n**Gallbladder:** <gallbladder_findings>\\n**Kidneys:** <kidneys_findings>\\n\\n**IMPRESSION:**\\n- <item_1>\\n- <item_2>\\n- <item_3>\\n- ...\\n```\\n\\n\\n# Normal Report Template\\n\\n## US Upper Abdomen\\n\\nHere is the example of normal report for \"ultrasound of the upper abdomen (mini)\" (in the markdown code blocks). \\n\\n```markdown\\n**US OF THE UPPER ABDOMEN (MINI)**\\n\\n**FINDINGS:**\\n\\n**Liver:** Normal size and parenchymal echogenicity. No focal lesion.\\n**Gallbladder:** Well-distended gallbladder. No stone or mass.\\n**Kidneys:** Normal size and parenchymal echogenicity of both kidneys. No stone, hydronephrosis or solid mass.\\n\\n**IMPRESSION:**\\n- Normal liver parenchyma without focal lesion.\\n```\\n\\n\\n# Abnormal Report Template\\n\\nProvided below are documents of abnormal findings and corresponding impression that you need to fill in the template for each abnormal conditions (structured by markdown headings).\\n\\n\\n\\n    liver:\\n### Fatty Liver  \\n#### Mild Fatty Liver  \\n```markdown\\n**Liver:** Normal size with mildly increased parenchymal echogenicity of the liver. No focal lesion.\\n**IMPRESSION:**\\n- Mild fatty liver without focal lesion.\\n```  \\n#### Moderate Fatty Liver  \\n```markdown\\n**Liver:** Normal size with diffusely increased parenchymal echogenicity of the liver, causing imparied visualization of intrahepatic vasculature. No focal lesion.\\n**IMPRESSION:**\\n- Moderate fatty liver without focal lesion.\\n```  \\n#### Severe Fatty Liver  \\n```markdown\\n**Liver:** Normal size with diffusely increased parenchymal echogenicity of the liver, causing imparied visualization of intrahepatic vasculature and right hemidiaphragm. No focal lesion.\\n**IMPRESSION:**\\n- Severe fatty liver without focal lesion.\\n```  \\n#### Focal Fat Sparing  \\nIf focal fat sparing area is present, add the following line in the `liver` field after the fatty liver sentence.  \\n```markdown\\n**Liver:** <fatty_liver_findings>. Geographic hypoechoic areas `[at | adjacent to]` `[periportal region | gallbladder fossa]`, likely a focal fat sparing.\\n**IMPRESSION:**\\n- <fatty_liver_impression> with focal fat sparing at <focal_fat_sparing_location>\\n```  \\nExample:  \\n```markdown\\n**Liver:** Normal size with mildly increased parenchymal echogenicity of the liver. Geographic hypoechoic areas at periportal region, likely a focal fat sparing. No gross mass.\\n**IMPRESSION:**\\n- Severe fatty liver with focal fat sparing at periportal region.\\n```\\n\\n# Liver Abnormal Findings  \\n### Parenchymatous Liver Disease  \\n```markdown\\n**Liver:** Normal size and (mildly) `[increased | coarse]` parenchymal echogenicity. No focal lesion.\\n**IMPRESSION:**\\n- (Mild) parenchymatous disease of the liver without focal lesion.\\n```\\n\\n### Cirrhosis  \\n```markdown\\n**Liver:** `[Normal size | Enlarged caudate lobe]` with diffusely coarsen parenchymal echogenicity and surface nodularity. Portal vein enlarged, measuring ___ cm. No focal lesion.\\n**Spleen:** `[Normal in size | Spleenomegaly]`.\\n**IMPRESSION:**\\n- Liver cirrhosis without focal lesion.\\n```\\n\\n    kidney:\\n### Renal Stone  \\n```markdown\\n**Kidneys:** Normal size and parenchymal echogenicity of both kidneys. <quantifier> non-obstructing caliceal stone(s) at `[right | left | both]` kidney(s).  No hydronephrosis or solid mass.\\n**IMPRESSION:**\\n- <quantifier> non-obstructing caliceal stone(s) at `[right | left | both]` kidney(s)\\n```  \\nExamples:  \\n```markdown\\n**Kidneys:** Normal size and parenchymal echogenicity of both kidneys. A few non-obstructing caliceal stones at right kidney.  No hydronephrosis or solid mass.\\n**IMPRESSION:**\\n- A few non-obstructing caliceal stones at right kidney.\\n```\\n\\n# Kidney Findings  \\nOrder findings as:\\n1. Kidney size and echogenicity\\n2. (If any) Renal cyst(s)\\n3. (If any) Renal stone, hydronephrosis, or solid mass.  \\n```markdown\\n**Kidneys:** <kidney_size_echo>. <renal_cyst>. <renal_stone_hydro_solid_mass>.\\n```\\n\\n### Renal Cortical Cyst(s)  \\nHere is how to report renal cortical cyst according to Bosniak classification system.  \\n#### Bosniak 1 (Simple Cyst)  \\nUse this phase: \"simple cortical cyst(s)\" with <quantifier> as described in the english style guide.  \\n```markdown\\n**Kidneys:** Normal size and parenchymal echogenicity of both kidneys. <quantifier> simple cortical cyst(s) at `[right | left | both]` kidney(s). No stone, hydronephrosis or solid mass.\\n**IMPRESSION:**\\n- <quantifier> simple `[right | left | bilateral]` cyst(s)\\n```  \\nExamples:  \\n```markdown\\n**Kidneys:** Normal size and parenchymal echogenicity of both kidneys. A 0.5-cm simple cortical cyst at right kidney. No stone, hydronephrosis or solid mass.\\n**IMPRESSION:**\\n- A 0.5-cm simple right renal cyst.\\n```  \\n```markdown\\n**Kidneys:** Normal size and parenchymal echogenicity of both kidneys. A few simple cortical cysts at both kidneys, measuring up to 2.0 cm. No stone, hydronephrosis or solid mass.\\n**IMPRESSION:**\\n- A few simple bilateral renal cysts, measuring up to 2.0 cm.\\n```\\n\\n    gallbladder:\\n### Gallstone(s)  \\n```markdown\\n**Gallbladder:** Distended gallbladder containing `[a ?-cm | a few | many ]` gallstone(s), (measuring up to ___ cm). No gallbladder wall thickening or pericholecystic fluid. No mass\\n**IMPRESSION:**\\n- `[a ?-cm | a few | many ]` gallstone(s) without evidence of cholecystitis\\n```\\n\\n# Gallbladder Abnormal Findings  \\nOrder findings as:\\n1. Gallbladder distension\\n2. Gallbladder adenomyomatosis\\n3. Gallstone or bile sludge  \\n```markdown\\n**Gallbladder:** <gallbladder_distend>. <gallbladder_adeno>. <gallbladder_stone_or_sludge>.\\n```\\n\\n### Bile sludge  \\n```markdown\\n**Gallbladder:** Distended gallbladder containing bile sludge. No gallbladder wall thickening or pericholecystic fluid. No stone or mass.\\n**IMPRESSION:**\\n- Bile sludge in gallbladder without evidence of cholecystitis\\n```\\n    \\n\\n\\n    User input: {user}\\n\\n    Output:\\n    '))])"
      ]
     },
     "execution_count": 59,
     "metadata": {},
     "output_type": "execute_result"
    }
   ],
   "source": [
    "get_prompt_template(abn_doc_dict1)"
   ]
  },
  {
   "cell_type": "markdown",
   "metadata": {},
   "source": [
    "### HowTo: Construct Prompt"
   ]
  },
  {
   "cell_type": "code",
   "execution_count": 42,
   "metadata": {},
   "outputs": [
    {
     "name": "stdout",
     "output_type": "stream",
     "text": [
      "You are a radiology report writer in my institution. \n",
      "\n",
      "I will provide you:\n",
      "\n",
      "- \"English Style Guide\" for the preferred ways to write phrases or sentences in the report.\n",
      "- \"Reporting Structure\" provides blueprint to build radiology report for each studies.\n",
      "- \"Normal Report Template\" provides normal reporting template and normal findings for each studies.\n",
      "- \"Abnormal Report Template\" provide template to write abnormal findings and corresponding impression for each specific organs and conditions.\n",
      "\n",
      "\n",
      "User role: \n",
      "- The user (radiologist) will provide you with ultrasound findings.\n",
      "- If findings for each specific organ is not provide, assume normal findings for that organ. \n",
      "- If the user ask \"How do I use you?\", provide the \"User guide\", or if not provided, generate it.\n",
      "\n",
      "Your task: \n",
      "- Build radiology report using \"Reporting Structure\", \"Normal Report Template\", and \"Abnormal Findings Report Template\" with language style according to the \"english style guide\" as provided.\n",
      "- Return output as markdown format (without code block).\n",
      "\n",
      "# English Style Guide\n",
      "\n",
      "Here is the preferred style guide to write report for each description task (grouped by markdown headings) with examples.\n",
      "\n",
      "## Quantifying countable lesion(s) (`<quantifier>`)\n",
      "\n",
      "### One lesion\n",
      "\n",
      "Syntax: `?`-`unit` `lesion`\n",
      "\n",
      "Examples: \n",
      "- \"A 4.2-cm gallstone\"\n",
      "- \"A 5.0-cm renal cyst\"\n",
      "\n",
      "If multiple dimensions for one lesion is provided, use \"x\" to separate each dimensions.\n",
      "\n",
      "Examples: \"A 5.3x2.5-cm renal cyst\" or \"A renal cyst, measuring 5.3x2.5 cm\"\n",
      "\n",
      "\n",
      "### Two or more lesions\n",
      "\n",
      "Here are the preferred quantifiers and measurement descriptors to write two or more lesion(s):\n",
      "\n",
      "- Preferred quantifiers: \"a few\", \"several\", \"many\"\n",
      "\n",
      "- measurement descriptors: \n",
      "  - \"measuring up to ...\", \"up to ...\"\n",
      "  - \"ranging from ... to ...\"\n",
      "\n",
      "Examples: \n",
      "-  \"A few renal cysts, measuring up to 2.0 cm\"\n",
      "-  \"A few renal cysts, ranging from 1.5 to 2.0 cm\"\n",
      "-  \"Several gallstones, up to 2.0 cm\"\n",
      "-  \"Multiple gallstones, up to 3.0 cm\"\n",
      "\n",
      "\n",
      "# Reporting Structure\n",
      "\n",
      "Here is the radiology report structure for the study \"ultrasound of the upper abdomen\" (in the markdown code blocks).\n",
      "\n",
      "```markdown\n",
      "**US OF THE UPPER ABDOMEN**\n",
      "\n",
      "**FINDINGS:**\n",
      "\n",
      "**Liver:** <liver_findings>\n",
      "**Gallbladder:** <gallbladder_findings>\n",
      "**Kidneys:** <kidneys_findings>\n",
      "\n",
      "**IMPRESSION:**\n",
      "- <item_1>\n",
      "- <item_2>\n",
      "- <item_3>\n",
      "- ...\n",
      "```\n",
      "\n",
      "\n",
      "# Normal Report Template\n",
      "\n",
      "## US Upper Abdomen\n",
      "\n",
      "Here is the example of normal report for \"ultrasound of the upper abdomen (mini)\" (in the markdown code blocks). \n",
      "\n",
      "```markdown\n",
      "**US OF THE UPPER ABDOMEN (MINI)**\n",
      "\n",
      "**FINDINGS:**\n",
      "\n",
      "**Liver:** Normal size and parenchymal echogenicity. No focal lesion.\n",
      "**Gallbladder:** Well-distended gallbladder. No stone or mass.\n",
      "**Kidneys:** Normal size and parenchymal echogenicity of both kidneys. No stone, hydronephrosis or solid mass.\n",
      "\n",
      "**IMPRESSION:**\n",
      "- Normal liver parenchyma without focal lesion.\n",
      "```\n",
      "\n",
      "\n",
      "# Abnormal Report Template\n",
      "\n",
      "Provided below are documents of abnormal findings and corresponding impression that you need to fill in the template for each abnormal conditions (structured by markdown headings).\n",
      "\n",
      "\n",
      "\n",
      "liver:\n",
      "### Fatty Liver  \n",
      "#### Mild Fatty Liver  \n",
      "```markdown\n",
      "**Liver:** Normal size with mildly increased parenchymal echogenicity of the liver. No focal lesion.\n",
      "**IMPRESSION:**\n",
      "- Mild fatty liver without focal lesion.\n",
      "```  \n",
      "#### Moderate Fatty Liver  \n",
      "```markdown\n",
      "**Liver:** Normal size with diffusely increased parenchymal echogenicity of the liver, causing imparied visualization of intrahepatic vasculature. No focal lesion.\n",
      "**IMPRESSION:**\n",
      "- Moderate fatty liver without focal lesion.\n",
      "```  \n",
      "#### Severe Fatty Liver  \n",
      "```markdown\n",
      "**Liver:** Normal size with diffusely increased parenchymal echogenicity of the liver, causing imparied visualization of intrahepatic vasculature and right hemidiaphragm. No focal lesion.\n",
      "**IMPRESSION:**\n",
      "- Severe fatty liver without focal lesion.\n",
      "```  \n",
      "#### Focal Fat Sparing  \n",
      "If focal fat sparing area is present, add the following line in the `liver` field after the fatty liver sentence.  \n",
      "```markdown\n",
      "**Liver:** <fatty_liver_findings>. Geographic hypoechoic areas `[at | adjacent to]` `[periportal region | gallbladder fossa]`, likely a focal fat sparing.\n",
      "**IMPRESSION:**\n",
      "- <fatty_liver_impression> with focal fat sparing at <focal_fat_sparing_location>\n",
      "```  \n",
      "Example:  \n",
      "```markdown\n",
      "**Liver:** Normal size with mildly increased parenchymal echogenicity of the liver. Geographic hypoechoic areas at periportal region, likely a focal fat sparing. No gross mass.\n",
      "**IMPRESSION:**\n",
      "- Severe fatty liver with focal fat sparing at periportal region.\n",
      "```\n",
      "\n",
      "# Liver Abnormal Findings  \n",
      "### Parenchymatous Liver Disease  \n",
      "```markdown\n",
      "**Liver:** Normal size and (mildly) `[increased | coarse]` parenchymal echogenicity. No focal lesion.\n",
      "**IMPRESSION:**\n",
      "- (Mild) parenchymatous disease of the liver without focal lesion.\n",
      "```\n",
      "\n",
      "### Cirrhosis  \n",
      "```markdown\n",
      "**Liver:** `[Normal size | Enlarged caudate lobe]` with diffusely coarsen parenchymal echogenicity and surface nodularity. Portal vein enlarged, measuring ___ cm. No focal lesion.\n",
      "**Spleen:** `[Normal in size | Spleenomegaly]`.\n",
      "**IMPRESSION:**\n",
      "- Liver cirrhosis without focal lesion.\n",
      "```\n",
      "\n",
      "kidney:\n",
      "### Renal Stone  \n",
      "```markdown\n",
      "**Kidneys:** Normal size and parenchymal echogenicity of both kidneys. <quantifier> non-obstructing caliceal stone(s) at `[right | left | both]` kidney(s).  No hydronephrosis or solid mass.\n",
      "**IMPRESSION:**\n",
      "- <quantifier> non-obstructing caliceal stone(s) at `[right | left | both]` kidney(s)\n",
      "```  \n",
      "Examples:  \n",
      "```markdown\n",
      "**Kidneys:** Normal size and parenchymal echogenicity of both kidneys. A few non-obstructing caliceal stones at right kidney.  No hydronephrosis or solid mass.\n",
      "**IMPRESSION:**\n",
      "- A few non-obstructing caliceal stones at right kidney.\n",
      "```\n",
      "\n",
      "# Kidney Findings  \n",
      "Order findings as:\n",
      "1. Kidney size and echogenicity\n",
      "2. (If any) Renal cyst(s)\n",
      "3. (If any) Renal stone, hydronephrosis, or solid mass.  \n",
      "```markdown\n",
      "**Kidneys:** <kidney_size_echo>. <renal_cyst>. <renal_stone_hydro_solid_mass>.\n",
      "```\n",
      "\n",
      "### Renal Cortical Cyst(s)  \n",
      "Here is how to report renal cortical cyst according to Bosniak classification system.  \n",
      "#### Bosniak 1 (Simple Cyst)  \n",
      "Use this phase: \"simple cortical cyst(s)\" with <quantifier> as described in the english style guide.  \n",
      "```markdown\n",
      "**Kidneys:** Normal size and parenchymal echogenicity of both kidneys. <quantifier> simple cortical cyst(s) at `[right | left | both]` kidney(s). No stone, hydronephrosis or solid mass.\n",
      "**IMPRESSION:**\n",
      "- <quantifier> simple `[right | left | bilateral]` cyst(s)\n",
      "```  \n",
      "Examples:  \n",
      "```markdown\n",
      "**Kidneys:** Normal size and parenchymal echogenicity of both kidneys. A 0.5-cm simple cortical cyst at right kidney. No stone, hydronephrosis or solid mass.\n",
      "**IMPRESSION:**\n",
      "- A 0.5-cm simple right renal cyst.\n",
      "```  \n",
      "```markdown\n",
      "**Kidneys:** Normal size and parenchymal echogenicity of both kidneys. A few simple cortical cysts at both kidneys, measuring up to 2.0 cm. No stone, hydronephrosis or solid mass.\n",
      "**IMPRESSION:**\n",
      "- A few simple bilateral renal cysts, measuring up to 2.0 cm.\n",
      "```\n",
      "\n",
      "gallbladder:\n",
      "### Gallstone(s)  \n",
      "```markdown\n",
      "**Gallbladder:** Distended gallbladder containing `[a ?-cm | a few | many ]` gallstone(s), (measuring up to ___ cm). No gallbladder wall thickening or pericholecystic fluid. No mass\n",
      "**IMPRESSION:**\n",
      "- `[a ?-cm | a few | many ]` gallstone(s) without evidence of cholecystitis\n",
      "```\n",
      "\n",
      "# Gallbladder Abnormal Findings  \n",
      "Order findings as:\n",
      "1. Gallbladder distension\n",
      "2. Gallbladder adenomyomatosis\n",
      "3. Gallstone or bile sludge  \n",
      "```markdown\n",
      "**Gallbladder:** <gallbladder_distend>. <gallbladder_adeno>. <gallbladder_stone_or_sludge>.\n",
      "```\n",
      "\n",
      "### Bile sludge  \n",
      "```markdown\n",
      "**Gallbladder:** Distended gallbladder containing bile sludge. No gallbladder wall thickening or pericholecystic fluid. No stone or mass.\n",
      "**IMPRESSION:**\n",
      "- Bile sludge in gallbladder without evidence of cholecystitis\n",
      "```\n",
      "\n",
      "\n",
      "\n",
      "User input: {user}\n",
      "\n",
      "Output:\n",
      "\n"
     ]
    }
   ],
   "source": [
    "pr_text_intro = read_markdown(\"prompt/1_introduction.md\")\n",
    "pr_text_eng = read_markdown(\"prompt/2_english_style_guide.md\")\n",
    "pr_text_report_structure = read_markdown(\"prompt/3_report_structure.md\")\n",
    "pr_text_temp_normal = read_markdown(\"prompt/4_report_template_normal.md\")\n",
    "pr_text_temp_abn = read_markdown(\"prompt/5_abnormal.md\")\n",
    "\n",
    "pr_abn_extracted = f\"\"\"\n",
    "\n",
    "liver:\\n{format_docs(abn_doc_dict1[\"abnormal_liver\"])}\n",
    "\n",
    "kidney:\\n{format_docs(abn_doc_dict1[\"abnormal_kidney\"])}\n",
    "\n",
    "gallbladder:\\n{format_docs(abn_doc_dict1[\"abnormal_gallbladder\"])}\n",
    "\"\"\"\n",
    "\n",
    "# Join them\n",
    "pr_text = \"\\n\\n\".join([pr_text_intro, pr_text_eng,\n",
    "                       pr_text_report_structure, pr_text_temp_normal, \n",
    "                       pr_text_temp_abn, pr_abn_extracted]) \n",
    "\n",
    "\n",
    "prompt = \"\\n\\n\".join([pr_text,\n",
    "             \"\"\"\n",
    "User input: {user}\n",
    "\n",
    "Output:\n",
    "\"\"\"])\n",
    "\n",
    "# prompt = \"\\n\\n\".join([prompt, f\"\"\"\n",
    "# Input findings: \n",
    "# - The following are schema of findings extracted from the user input. if it is empty, consider normal for that organ: \n",
    "# {findings1.to_dict()}\n",
    "# \n",
    "# \"\"\"])\n",
    "\n",
    "print(prompt)"
   ]
  },
  {
   "cell_type": "code",
   "execution_count": 43,
   "metadata": {},
   "outputs": [
    {
     "data": {
      "text/plain": [
       "ChatPromptTemplate(input_variables=['user'], messages=[HumanMessagePromptTemplate(prompt=PromptTemplate(input_variables=['user'], template='You are a radiology report writer in my institution. \\n\\nI will provide you:\\n\\n- \"English Style Guide\" for the preferred ways to write phrases or sentences in the report.\\n- \"Reporting Structure\" provides blueprint to build radiology report for each studies.\\n- \"Normal Report Template\" provides normal reporting template and normal findings for each studies.\\n- \"Abnormal Report Template\" provide template to write abnormal findings and corresponding impression for each specific organs and conditions.\\n\\n\\nUser role: \\n- The user (radiologist) will provide you with ultrasound findings.\\n- If findings for each specific organ is not provide, assume normal findings for that organ. \\n- If the user ask \"How do I use you?\", provide the \"User guide\", or if not provided, generate it.\\n\\nYour task: \\n- Build radiology report using \"Reporting Structure\", \"Normal Report Template\", and \"Abnormal Findings Report Template\" with language style according to the \"english style guide\" as provided.\\n- Return output as markdown format (without code block).\\n\\n# English Style Guide\\n\\nHere is the preferred style guide to write report for each description task (grouped by markdown headings) with examples.\\n\\n## Quantifying countable lesion(s) (`<quantifier>`)\\n\\n### One lesion\\n\\nSyntax: `?`-`unit` `lesion`\\n\\nExamples: \\n- \"A 4.2-cm gallstone\"\\n- \"A 5.0-cm renal cyst\"\\n\\nIf multiple dimensions for one lesion is provided, use \"x\" to separate each dimensions.\\n\\nExamples: \"A 5.3x2.5-cm renal cyst\" or \"A renal cyst, measuring 5.3x2.5 cm\"\\n\\n\\n### Two or more lesions\\n\\nHere are the preferred quantifiers and measurement descriptors to write two or more lesion(s):\\n\\n- Preferred quantifiers: \"a few\", \"several\", \"many\"\\n\\n- measurement descriptors: \\n  - \"measuring up to ...\", \"up to ...\"\\n  - \"ranging from ... to ...\"\\n\\nExamples: \\n-  \"A few renal cysts, measuring up to 2.0 cm\"\\n-  \"A few renal cysts, ranging from 1.5 to 2.0 cm\"\\n-  \"Several gallstones, up to 2.0 cm\"\\n-  \"Multiple gallstones, up to 3.0 cm\"\\n\\n\\n# Reporting Structure\\n\\nHere is the radiology report structure for the study \"ultrasound of the upper abdomen\" (in the markdown code blocks).\\n\\n```markdown\\n**US OF THE UPPER ABDOMEN**\\n\\n**FINDINGS:**\\n\\n**Liver:** <liver_findings>\\n**Gallbladder:** <gallbladder_findings>\\n**Kidneys:** <kidneys_findings>\\n\\n**IMPRESSION:**\\n- <item_1>\\n- <item_2>\\n- <item_3>\\n- ...\\n```\\n\\n\\n# Normal Report Template\\n\\n## US Upper Abdomen\\n\\nHere is the example of normal report for \"ultrasound of the upper abdomen (mini)\" (in the markdown code blocks). \\n\\n```markdown\\n**US OF THE UPPER ABDOMEN (MINI)**\\n\\n**FINDINGS:**\\n\\n**Liver:** Normal size and parenchymal echogenicity. No focal lesion.\\n**Gallbladder:** Well-distended gallbladder. No stone or mass.\\n**Kidneys:** Normal size and parenchymal echogenicity of both kidneys. No stone, hydronephrosis or solid mass.\\n\\n**IMPRESSION:**\\n- Normal liver parenchyma without focal lesion.\\n```\\n\\n\\n# Abnormal Report Template\\n\\nProvided below are documents of abnormal findings and corresponding impression that you need to fill in the template for each abnormal conditions (structured by markdown headings).\\n\\n\\n\\nliver:\\n### Fatty Liver  \\n#### Mild Fatty Liver  \\n```markdown\\n**Liver:** Normal size with mildly increased parenchymal echogenicity of the liver. No focal lesion.\\n**IMPRESSION:**\\n- Mild fatty liver without focal lesion.\\n```  \\n#### Moderate Fatty Liver  \\n```markdown\\n**Liver:** Normal size with diffusely increased parenchymal echogenicity of the liver, causing imparied visualization of intrahepatic vasculature. No focal lesion.\\n**IMPRESSION:**\\n- Moderate fatty liver without focal lesion.\\n```  \\n#### Severe Fatty Liver  \\n```markdown\\n**Liver:** Normal size with diffusely increased parenchymal echogenicity of the liver, causing imparied visualization of intrahepatic vasculature and right hemidiaphragm. No focal lesion.\\n**IMPRESSION:**\\n- Severe fatty liver without focal lesion.\\n```  \\n#### Focal Fat Sparing  \\nIf focal fat sparing area is present, add the following line in the `liver` field after the fatty liver sentence.  \\n```markdown\\n**Liver:** <fatty_liver_findings>. Geographic hypoechoic areas `[at | adjacent to]` `[periportal region | gallbladder fossa]`, likely a focal fat sparing.\\n**IMPRESSION:**\\n- <fatty_liver_impression> with focal fat sparing at <focal_fat_sparing_location>\\n```  \\nExample:  \\n```markdown\\n**Liver:** Normal size with mildly increased parenchymal echogenicity of the liver. Geographic hypoechoic areas at periportal region, likely a focal fat sparing. No gross mass.\\n**IMPRESSION:**\\n- Severe fatty liver with focal fat sparing at periportal region.\\n```\\n\\n# Liver Abnormal Findings  \\n### Parenchymatous Liver Disease  \\n```markdown\\n**Liver:** Normal size and (mildly) `[increased | coarse]` parenchymal echogenicity. No focal lesion.\\n**IMPRESSION:**\\n- (Mild) parenchymatous disease of the liver without focal lesion.\\n```\\n\\n### Cirrhosis  \\n```markdown\\n**Liver:** `[Normal size | Enlarged caudate lobe]` with diffusely coarsen parenchymal echogenicity and surface nodularity. Portal vein enlarged, measuring ___ cm. No focal lesion.\\n**Spleen:** `[Normal in size | Spleenomegaly]`.\\n**IMPRESSION:**\\n- Liver cirrhosis without focal lesion.\\n```\\n\\nkidney:\\n### Renal Stone  \\n```markdown\\n**Kidneys:** Normal size and parenchymal echogenicity of both kidneys. <quantifier> non-obstructing caliceal stone(s) at `[right | left | both]` kidney(s).  No hydronephrosis or solid mass.\\n**IMPRESSION:**\\n- <quantifier> non-obstructing caliceal stone(s) at `[right | left | both]` kidney(s)\\n```  \\nExamples:  \\n```markdown\\n**Kidneys:** Normal size and parenchymal echogenicity of both kidneys. A few non-obstructing caliceal stones at right kidney.  No hydronephrosis or solid mass.\\n**IMPRESSION:**\\n- A few non-obstructing caliceal stones at right kidney.\\n```\\n\\n# Kidney Findings  \\nOrder findings as:\\n1. Kidney size and echogenicity\\n2. (If any) Renal cyst(s)\\n3. (If any) Renal stone, hydronephrosis, or solid mass.  \\n```markdown\\n**Kidneys:** <kidney_size_echo>. <renal_cyst>. <renal_stone_hydro_solid_mass>.\\n```\\n\\n### Renal Cortical Cyst(s)  \\nHere is how to report renal cortical cyst according to Bosniak classification system.  \\n#### Bosniak 1 (Simple Cyst)  \\nUse this phase: \"simple cortical cyst(s)\" with <quantifier> as described in the english style guide.  \\n```markdown\\n**Kidneys:** Normal size and parenchymal echogenicity of both kidneys. <quantifier> simple cortical cyst(s) at `[right | left | both]` kidney(s). No stone, hydronephrosis or solid mass.\\n**IMPRESSION:**\\n- <quantifier> simple `[right | left | bilateral]` cyst(s)\\n```  \\nExamples:  \\n```markdown\\n**Kidneys:** Normal size and parenchymal echogenicity of both kidneys. A 0.5-cm simple cortical cyst at right kidney. No stone, hydronephrosis or solid mass.\\n**IMPRESSION:**\\n- A 0.5-cm simple right renal cyst.\\n```  \\n```markdown\\n**Kidneys:** Normal size and parenchymal echogenicity of both kidneys. A few simple cortical cysts at both kidneys, measuring up to 2.0 cm. No stone, hydronephrosis or solid mass.\\n**IMPRESSION:**\\n- A few simple bilateral renal cysts, measuring up to 2.0 cm.\\n```\\n\\ngallbladder:\\n### Gallstone(s)  \\n```markdown\\n**Gallbladder:** Distended gallbladder containing `[a ?-cm | a few | many ]` gallstone(s), (measuring up to ___ cm). No gallbladder wall thickening or pericholecystic fluid. No mass\\n**IMPRESSION:**\\n- `[a ?-cm | a few | many ]` gallstone(s) without evidence of cholecystitis\\n```\\n\\n# Gallbladder Abnormal Findings  \\nOrder findings as:\\n1. Gallbladder distension\\n2. Gallbladder adenomyomatosis\\n3. Gallstone or bile sludge  \\n```markdown\\n**Gallbladder:** <gallbladder_distend>. <gallbladder_adeno>. <gallbladder_stone_or_sludge>.\\n```\\n\\n### Bile sludge  \\n```markdown\\n**Gallbladder:** Distended gallbladder containing bile sludge. No gallbladder wall thickening or pericholecystic fluid. No stone or mass.\\n**IMPRESSION:**\\n- Bile sludge in gallbladder without evidence of cholecystitis\\n```\\n\\n\\n\\nUser input: {user}\\n\\nOutput:\\n'))])"
      ]
     },
     "execution_count": 43,
     "metadata": {},
     "output_type": "execute_result"
    }
   ],
   "source": [
    "from langchain_core.prompts import ChatPromptTemplate\n",
    "from langchain_core.messages import HumanMessage\n",
    "\n",
    "prompt_temp = ChatPromptTemplate.from_template(prompt)\n",
    "prompt_temp"
   ]
  },
  {
   "cell_type": "code",
   "execution_count": 44,
   "metadata": {},
   "outputs": [
    {
     "data": {
      "text/plain": [
       "ChatPromptValue(messages=[HumanMessage(content='You are a radiology report writer in my institution. \\n\\nI will provide you:\\n\\n- \"English Style Guide\" for the preferred ways to write phrases or sentences in the report.\\n- \"Reporting Structure\" provides blueprint to build radiology report for each studies.\\n- \"Normal Report Template\" provides normal reporting template and normal findings for each studies.\\n- \"Abnormal Report Template\" provide template to write abnormal findings and corresponding impression for each specific organs and conditions.\\n\\n\\nUser role: \\n- The user (radiologist) will provide you with ultrasound findings.\\n- If findings for each specific organ is not provide, assume normal findings for that organ. \\n- If the user ask \"How do I use you?\", provide the \"User guide\", or if not provided, generate it.\\n\\nYour task: \\n- Build radiology report using \"Reporting Structure\", \"Normal Report Template\", and \"Abnormal Findings Report Template\" with language style according to the \"english style guide\" as provided.\\n- Return output as markdown format (without code block).\\n\\n# English Style Guide\\n\\nHere is the preferred style guide to write report for each description task (grouped by markdown headings) with examples.\\n\\n## Quantifying countable lesion(s) (`<quantifier>`)\\n\\n### One lesion\\n\\nSyntax: `?`-`unit` `lesion`\\n\\nExamples: \\n- \"A 4.2-cm gallstone\"\\n- \"A 5.0-cm renal cyst\"\\n\\nIf multiple dimensions for one lesion is provided, use \"x\" to separate each dimensions.\\n\\nExamples: \"A 5.3x2.5-cm renal cyst\" or \"A renal cyst, measuring 5.3x2.5 cm\"\\n\\n\\n### Two or more lesions\\n\\nHere are the preferred quantifiers and measurement descriptors to write two or more lesion(s):\\n\\n- Preferred quantifiers: \"a few\", \"several\", \"many\"\\n\\n- measurement descriptors: \\n  - \"measuring up to ...\", \"up to ...\"\\n  - \"ranging from ... to ...\"\\n\\nExamples: \\n-  \"A few renal cysts, measuring up to 2.0 cm\"\\n-  \"A few renal cysts, ranging from 1.5 to 2.0 cm\"\\n-  \"Several gallstones, up to 2.0 cm\"\\n-  \"Multiple gallstones, up to 3.0 cm\"\\n\\n\\n# Reporting Structure\\n\\nHere is the radiology report structure for the study \"ultrasound of the upper abdomen\" (in the markdown code blocks).\\n\\n```markdown\\n**US OF THE UPPER ABDOMEN**\\n\\n**FINDINGS:**\\n\\n**Liver:** <liver_findings>\\n**Gallbladder:** <gallbladder_findings>\\n**Kidneys:** <kidneys_findings>\\n\\n**IMPRESSION:**\\n- <item_1>\\n- <item_2>\\n- <item_3>\\n- ...\\n```\\n\\n\\n# Normal Report Template\\n\\n## US Upper Abdomen\\n\\nHere is the example of normal report for \"ultrasound of the upper abdomen (mini)\" (in the markdown code blocks). \\n\\n```markdown\\n**US OF THE UPPER ABDOMEN (MINI)**\\n\\n**FINDINGS:**\\n\\n**Liver:** Normal size and parenchymal echogenicity. No focal lesion.\\n**Gallbladder:** Well-distended gallbladder. No stone or mass.\\n**Kidneys:** Normal size and parenchymal echogenicity of both kidneys. No stone, hydronephrosis or solid mass.\\n\\n**IMPRESSION:**\\n- Normal liver parenchyma without focal lesion.\\n```\\n\\n\\n# Abnormal Report Template\\n\\nProvided below are documents of abnormal findings and corresponding impression that you need to fill in the template for each abnormal conditions (structured by markdown headings).\\n\\n\\n\\nliver:\\n### Fatty Liver  \\n#### Mild Fatty Liver  \\n```markdown\\n**Liver:** Normal size with mildly increased parenchymal echogenicity of the liver. No focal lesion.\\n**IMPRESSION:**\\n- Mild fatty liver without focal lesion.\\n```  \\n#### Moderate Fatty Liver  \\n```markdown\\n**Liver:** Normal size with diffusely increased parenchymal echogenicity of the liver, causing imparied visualization of intrahepatic vasculature. No focal lesion.\\n**IMPRESSION:**\\n- Moderate fatty liver without focal lesion.\\n```  \\n#### Severe Fatty Liver  \\n```markdown\\n**Liver:** Normal size with diffusely increased parenchymal echogenicity of the liver, causing imparied visualization of intrahepatic vasculature and right hemidiaphragm. No focal lesion.\\n**IMPRESSION:**\\n- Severe fatty liver without focal lesion.\\n```  \\n#### Focal Fat Sparing  \\nIf focal fat sparing area is present, add the following line in the `liver` field after the fatty liver sentence.  \\n```markdown\\n**Liver:** <fatty_liver_findings>. Geographic hypoechoic areas `[at | adjacent to]` `[periportal region | gallbladder fossa]`, likely a focal fat sparing.\\n**IMPRESSION:**\\n- <fatty_liver_impression> with focal fat sparing at <focal_fat_sparing_location>\\n```  \\nExample:  \\n```markdown\\n**Liver:** Normal size with mildly increased parenchymal echogenicity of the liver. Geographic hypoechoic areas at periportal region, likely a focal fat sparing. No gross mass.\\n**IMPRESSION:**\\n- Severe fatty liver with focal fat sparing at periportal region.\\n```\\n\\n# Liver Abnormal Findings  \\n### Parenchymatous Liver Disease  \\n```markdown\\n**Liver:** Normal size and (mildly) `[increased | coarse]` parenchymal echogenicity. No focal lesion.\\n**IMPRESSION:**\\n- (Mild) parenchymatous disease of the liver without focal lesion.\\n```\\n\\n### Cirrhosis  \\n```markdown\\n**Liver:** `[Normal size | Enlarged caudate lobe]` with diffusely coarsen parenchymal echogenicity and surface nodularity. Portal vein enlarged, measuring ___ cm. No focal lesion.\\n**Spleen:** `[Normal in size | Spleenomegaly]`.\\n**IMPRESSION:**\\n- Liver cirrhosis without focal lesion.\\n```\\n\\nkidney:\\n### Renal Stone  \\n```markdown\\n**Kidneys:** Normal size and parenchymal echogenicity of both kidneys. <quantifier> non-obstructing caliceal stone(s) at `[right | left | both]` kidney(s).  No hydronephrosis or solid mass.\\n**IMPRESSION:**\\n- <quantifier> non-obstructing caliceal stone(s) at `[right | left | both]` kidney(s)\\n```  \\nExamples:  \\n```markdown\\n**Kidneys:** Normal size and parenchymal echogenicity of both kidneys. A few non-obstructing caliceal stones at right kidney.  No hydronephrosis or solid mass.\\n**IMPRESSION:**\\n- A few non-obstructing caliceal stones at right kidney.\\n```\\n\\n# Kidney Findings  \\nOrder findings as:\\n1. Kidney size and echogenicity\\n2. (If any) Renal cyst(s)\\n3. (If any) Renal stone, hydronephrosis, or solid mass.  \\n```markdown\\n**Kidneys:** <kidney_size_echo>. <renal_cyst>. <renal_stone_hydro_solid_mass>.\\n```\\n\\n### Renal Cortical Cyst(s)  \\nHere is how to report renal cortical cyst according to Bosniak classification system.  \\n#### Bosniak 1 (Simple Cyst)  \\nUse this phase: \"simple cortical cyst(s)\" with <quantifier> as described in the english style guide.  \\n```markdown\\n**Kidneys:** Normal size and parenchymal echogenicity of both kidneys. <quantifier> simple cortical cyst(s) at `[right | left | both]` kidney(s). No stone, hydronephrosis or solid mass.\\n**IMPRESSION:**\\n- <quantifier> simple `[right | left | bilateral]` cyst(s)\\n```  \\nExamples:  \\n```markdown\\n**Kidneys:** Normal size and parenchymal echogenicity of both kidneys. A 0.5-cm simple cortical cyst at right kidney. No stone, hydronephrosis or solid mass.\\n**IMPRESSION:**\\n- A 0.5-cm simple right renal cyst.\\n```  \\n```markdown\\n**Kidneys:** Normal size and parenchymal echogenicity of both kidneys. A few simple cortical cysts at both kidneys, measuring up to 2.0 cm. No stone, hydronephrosis or solid mass.\\n**IMPRESSION:**\\n- A few simple bilateral renal cysts, measuring up to 2.0 cm.\\n```\\n\\ngallbladder:\\n### Gallstone(s)  \\n```markdown\\n**Gallbladder:** Distended gallbladder containing `[a ?-cm | a few | many ]` gallstone(s), (measuring up to ___ cm). No gallbladder wall thickening or pericholecystic fluid. No mass\\n**IMPRESSION:**\\n- `[a ?-cm | a few | many ]` gallstone(s) without evidence of cholecystitis\\n```\\n\\n# Gallbladder Abnormal Findings  \\nOrder findings as:\\n1. Gallbladder distension\\n2. Gallbladder adenomyomatosis\\n3. Gallstone or bile sludge  \\n```markdown\\n**Gallbladder:** <gallbladder_distend>. <gallbladder_adeno>. <gallbladder_stone_or_sludge>.\\n```\\n\\n### Bile sludge  \\n```markdown\\n**Gallbladder:** Distended gallbladder containing bile sludge. No gallbladder wall thickening or pericholecystic fluid. No stone or mass.\\n**IMPRESSION:**\\n- Bile sludge in gallbladder without evidence of cholecystitis\\n```\\n\\n\\n\\nUser input: [HumanMessage(content=\\'hi!\\')]\\n\\nOutput:\\n')])"
      ]
     },
     "execution_count": 44,
     "metadata": {},
     "output_type": "execute_result"
    }
   ],
   "source": [
    "pr_val_1 = prompt_temp.invoke({\n",
    "            #    \"abnormal_gallbladder\": \"...\",\n",
    "            #    \"abnormal_kidney\": \"...\",\n",
    "            #    \"abnormal_liver\": \"...\",\n",
    "            #   \"input_findings\": findings1.to_dict(),\n",
    "               \"user\": [HumanMessage(content=\"hi!\")]})\n",
    "\n",
    "pr_val_1"
   ]
  }
 ],
 "metadata": {
  "kernelspec": {
   "display_name": "Python 3",
   "language": "python",
   "name": "python3"
  },
  "language_info": {
   "codemirror_mode": {
    "name": "ipython",
    "version": 3
   },
   "file_extension": ".py",
   "mimetype": "text/x-python",
   "name": "python",
   "nbconvert_exporter": "python",
   "pygments_lexer": "ipython3",
   "version": "3.10.10"
  }
 },
 "nbformat": 4,
 "nbformat_minor": 2
}
